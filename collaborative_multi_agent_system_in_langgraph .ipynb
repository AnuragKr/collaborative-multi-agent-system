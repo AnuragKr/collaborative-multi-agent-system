{
  "cells": [
    {
      "cell_type": "markdown",
      "metadata": {
        "id": "WRdNnlSKAIzE"
      },
      "source": [
        "# Building a collaborative Multi-Agent System in LangGraph"
      ]
    },
    {
      "cell_type": "markdown",
      "metadata": {
        "id": "NYBpZTjLnEXb"
      },
      "source": [
        "This project will develop how to build a collaborative Multi-Agent System in LangGraph to build our own Data Analyst!\n",
        "\n",
        "A single agent can usually operate effectively using a handful of tools within a single domain, but even using powerful models like `gpt-4o`, it can be less effective at using many tools.\n",
        "\n",
        "One way to approach complicated tasks is through a \"divide-and-conquer\" approach: create an specialized agent for each task or domain and route tasks to the correct \"expert\".\n",
        "This is inspired by the paper [AutoGen: Enabling Next-Gen LLM Applications via Multi-Agent Conversation, by Wu, et. al.](https://arxiv.org/pdf/2308.08155)\n",
        "\n",
        "The typical workflow here would be to have the following:\n",
        "\n",
        "- A Researcher Agent which can leverage tools like search to get live information from user queries\n",
        "- A Chart Generator Agent which is an expert in taking data and building visualizations in Python\n",
        "- A router which will help in calling the right agent and tools based on the current state in the agent.\n",
        "\n"
      ]
    },
    {
      "cell_type": "markdown",
      "metadata": {
        "id": "L1KvMtf54l0d"
      },
      "source": [
        "## Install OpenAI, and LangChain dependencies"
      ]
    },
    {
      "cell_type": "markdown",
      "metadata": {
        "id": "NQYM0TO0sMhZ"
      },
      "source": [
        "Install the following httpx library version for compatibility with other libraries"
      ]
    },
    {
      "cell_type": "code",
      "execution_count": 1,
      "metadata": {
        "colab": {
          "base_uri": "https://localhost:8080/"
        },
        "id": "cX4dwtupsMhZ",
        "outputId": "2e19d89a-29ee-48a2-9d6e-d3b98ec28686"
      },
      "outputs": [
        {
          "output_type": "stream",
          "name": "stdout",
          "text": [
            "Collecting httpx==0.27.2\n",
            "  Downloading httpx-0.27.2-py3-none-any.whl.metadata (7.1 kB)\n",
            "Requirement already satisfied: anyio in /usr/local/lib/python3.11/dist-packages (from httpx==0.27.2) (4.9.0)\n",
            "Requirement already satisfied: certifi in /usr/local/lib/python3.11/dist-packages (from httpx==0.27.2) (2025.4.26)\n",
            "Requirement already satisfied: httpcore==1.* in /usr/local/lib/python3.11/dist-packages (from httpx==0.27.2) (1.0.9)\n",
            "Requirement already satisfied: idna in /usr/local/lib/python3.11/dist-packages (from httpx==0.27.2) (3.10)\n",
            "Requirement already satisfied: sniffio in /usr/local/lib/python3.11/dist-packages (from httpx==0.27.2) (1.3.1)\n",
            "Requirement already satisfied: h11>=0.16 in /usr/local/lib/python3.11/dist-packages (from httpcore==1.*->httpx==0.27.2) (0.16.0)\n",
            "Requirement already satisfied: typing_extensions>=4.5 in /usr/local/lib/python3.11/dist-packages (from anyio->httpx==0.27.2) (4.13.2)\n",
            "Downloading httpx-0.27.2-py3-none-any.whl (76 kB)\n",
            "\u001b[2K   \u001b[90m━━━━━━━━━━━━━━━━━━━━━━━━━━━━━━━━━━━━━━━━\u001b[0m \u001b[32m76.4/76.4 kB\u001b[0m \u001b[31m3.0 MB/s\u001b[0m eta \u001b[36m0:00:00\u001b[0m\n",
            "\u001b[?25hInstalling collected packages: httpx\n",
            "  Attempting uninstall: httpx\n",
            "    Found existing installation: httpx 0.28.1\n",
            "    Uninstalling httpx-0.28.1:\n",
            "      Successfully uninstalled httpx-0.28.1\n",
            "\u001b[31mERROR: pip's dependency resolver does not currently take into account all the packages that are installed. This behaviour is the source of the following dependency conflicts.\n",
            "google-genai 1.16.1 requires httpx<1.0.0,>=0.28.1, but you have httpx 0.27.2 which is incompatible.\u001b[0m\u001b[31m\n",
            "\u001b[0mSuccessfully installed httpx-0.27.2\n"
          ]
        }
      ],
      "source": [
        "!pip install httpx==0.27.2"
      ]
    },
    {
      "cell_type": "code",
      "execution_count": 2,
      "metadata": {
        "colab": {
          "base_uri": "https://localhost:8080/"
        },
        "collapsed": true,
        "id": "2evPp14fy258",
        "jupyter": {
          "outputs_hidden": true
        },
        "outputId": "c26ab267-4a78-4cc1-bc3c-3943a42d10f4",
        "scrolled": true
      },
      "outputs": [
        {
          "output_type": "stream",
          "name": "stdout",
          "text": [
            "Collecting langchain==0.2.0\n",
            "  Downloading langchain-0.2.0-py3-none-any.whl.metadata (13 kB)\n",
            "Requirement already satisfied: PyYAML>=5.3 in /usr/local/lib/python3.11/dist-packages (from langchain==0.2.0) (6.0.2)\n",
            "Requirement already satisfied: SQLAlchemy<3,>=1.4 in /usr/local/lib/python3.11/dist-packages (from langchain==0.2.0) (2.0.41)\n",
            "Requirement already satisfied: aiohttp<4.0.0,>=3.8.3 in /usr/local/lib/python3.11/dist-packages (from langchain==0.2.0) (3.11.15)\n",
            "Collecting dataclasses-json<0.7,>=0.5.7 (from langchain==0.2.0)\n",
            "  Downloading dataclasses_json-0.6.7-py3-none-any.whl.metadata (25 kB)\n",
            "Collecting langchain-core<0.3.0,>=0.2.0 (from langchain==0.2.0)\n",
            "  Downloading langchain_core-0.2.43-py3-none-any.whl.metadata (6.2 kB)\n",
            "Collecting langchain-text-splitters<0.3.0,>=0.2.0 (from langchain==0.2.0)\n",
            "  Downloading langchain_text_splitters-0.2.4-py3-none-any.whl.metadata (2.3 kB)\n",
            "Collecting langsmith<0.2.0,>=0.1.17 (from langchain==0.2.0)\n",
            "  Downloading langsmith-0.1.147-py3-none-any.whl.metadata (14 kB)\n",
            "Collecting numpy<2,>=1 (from langchain==0.2.0)\n",
            "  Downloading numpy-1.26.4-cp311-cp311-manylinux_2_17_x86_64.manylinux2014_x86_64.whl.metadata (61 kB)\n",
            "\u001b[2K     \u001b[90m━━━━━━━━━━━━━━━━━━━━━━━━━━━━━━━━━━━━━━━━\u001b[0m \u001b[32m61.0/61.0 kB\u001b[0m \u001b[31m4.6 MB/s\u001b[0m eta \u001b[36m0:00:00\u001b[0m\n",
            "\u001b[?25hRequirement already satisfied: pydantic<3,>=1 in /usr/local/lib/python3.11/dist-packages (from langchain==0.2.0) (2.11.4)\n",
            "Requirement already satisfied: requests<3,>=2 in /usr/local/lib/python3.11/dist-packages (from langchain==0.2.0) (2.32.3)\n",
            "Collecting tenacity<9.0.0,>=8.1.0 (from langchain==0.2.0)\n",
            "  Downloading tenacity-8.5.0-py3-none-any.whl.metadata (1.2 kB)\n",
            "Requirement already satisfied: aiohappyeyeballs>=2.3.0 in /usr/local/lib/python3.11/dist-packages (from aiohttp<4.0.0,>=3.8.3->langchain==0.2.0) (2.6.1)\n",
            "Requirement already satisfied: aiosignal>=1.1.2 in /usr/local/lib/python3.11/dist-packages (from aiohttp<4.0.0,>=3.8.3->langchain==0.2.0) (1.3.2)\n",
            "Requirement already satisfied: attrs>=17.3.0 in /usr/local/lib/python3.11/dist-packages (from aiohttp<4.0.0,>=3.8.3->langchain==0.2.0) (25.3.0)\n",
            "Requirement already satisfied: frozenlist>=1.1.1 in /usr/local/lib/python3.11/dist-packages (from aiohttp<4.0.0,>=3.8.3->langchain==0.2.0) (1.6.0)\n",
            "Requirement already satisfied: multidict<7.0,>=4.5 in /usr/local/lib/python3.11/dist-packages (from aiohttp<4.0.0,>=3.8.3->langchain==0.2.0) (6.4.4)\n",
            "Requirement already satisfied: propcache>=0.2.0 in /usr/local/lib/python3.11/dist-packages (from aiohttp<4.0.0,>=3.8.3->langchain==0.2.0) (0.3.1)\n",
            "Requirement already satisfied: yarl<2.0,>=1.17.0 in /usr/local/lib/python3.11/dist-packages (from aiohttp<4.0.0,>=3.8.3->langchain==0.2.0) (1.20.0)\n",
            "Collecting marshmallow<4.0.0,>=3.18.0 (from dataclasses-json<0.7,>=0.5.7->langchain==0.2.0)\n",
            "  Downloading marshmallow-3.26.1-py3-none-any.whl.metadata (7.3 kB)\n",
            "Collecting typing-inspect<1,>=0.4.0 (from dataclasses-json<0.7,>=0.5.7->langchain==0.2.0)\n",
            "  Downloading typing_inspect-0.9.0-py3-none-any.whl.metadata (1.5 kB)\n",
            "Requirement already satisfied: jsonpatch<2.0,>=1.33 in /usr/local/lib/python3.11/dist-packages (from langchain-core<0.3.0,>=0.2.0->langchain==0.2.0) (1.33)\n",
            "Requirement already satisfied: packaging<25,>=23.2 in /usr/local/lib/python3.11/dist-packages (from langchain-core<0.3.0,>=0.2.0->langchain==0.2.0) (24.2)\n",
            "Requirement already satisfied: typing-extensions>=4.7 in /usr/local/lib/python3.11/dist-packages (from langchain-core<0.3.0,>=0.2.0->langchain==0.2.0) (4.13.2)\n",
            "Requirement already satisfied: httpx<1,>=0.23.0 in /usr/local/lib/python3.11/dist-packages (from langsmith<0.2.0,>=0.1.17->langchain==0.2.0) (0.27.2)\n",
            "Requirement already satisfied: orjson<4.0.0,>=3.9.14 in /usr/local/lib/python3.11/dist-packages (from langsmith<0.2.0,>=0.1.17->langchain==0.2.0) (3.10.18)\n",
            "Requirement already satisfied: requests-toolbelt<2.0.0,>=1.0.0 in /usr/local/lib/python3.11/dist-packages (from langsmith<0.2.0,>=0.1.17->langchain==0.2.0) (1.0.0)\n",
            "Requirement already satisfied: annotated-types>=0.6.0 in /usr/local/lib/python3.11/dist-packages (from pydantic<3,>=1->langchain==0.2.0) (0.7.0)\n",
            "Requirement already satisfied: pydantic-core==2.33.2 in /usr/local/lib/python3.11/dist-packages (from pydantic<3,>=1->langchain==0.2.0) (2.33.2)\n",
            "Requirement already satisfied: typing-inspection>=0.4.0 in /usr/local/lib/python3.11/dist-packages (from pydantic<3,>=1->langchain==0.2.0) (0.4.1)\n",
            "Requirement already satisfied: charset-normalizer<4,>=2 in /usr/local/lib/python3.11/dist-packages (from requests<3,>=2->langchain==0.2.0) (3.4.2)\n",
            "Requirement already satisfied: idna<4,>=2.5 in /usr/local/lib/python3.11/dist-packages (from requests<3,>=2->langchain==0.2.0) (3.10)\n",
            "Requirement already satisfied: urllib3<3,>=1.21.1 in /usr/local/lib/python3.11/dist-packages (from requests<3,>=2->langchain==0.2.0) (2.4.0)\n",
            "Requirement already satisfied: certifi>=2017.4.17 in /usr/local/lib/python3.11/dist-packages (from requests<3,>=2->langchain==0.2.0) (2025.4.26)\n",
            "Requirement already satisfied: greenlet>=1 in /usr/local/lib/python3.11/dist-packages (from SQLAlchemy<3,>=1.4->langchain==0.2.0) (3.2.2)\n",
            "Requirement already satisfied: anyio in /usr/local/lib/python3.11/dist-packages (from httpx<1,>=0.23.0->langsmith<0.2.0,>=0.1.17->langchain==0.2.0) (4.9.0)\n",
            "Requirement already satisfied: httpcore==1.* in /usr/local/lib/python3.11/dist-packages (from httpx<1,>=0.23.0->langsmith<0.2.0,>=0.1.17->langchain==0.2.0) (1.0.9)\n",
            "Requirement already satisfied: sniffio in /usr/local/lib/python3.11/dist-packages (from httpx<1,>=0.23.0->langsmith<0.2.0,>=0.1.17->langchain==0.2.0) (1.3.1)\n",
            "Requirement already satisfied: h11>=0.16 in /usr/local/lib/python3.11/dist-packages (from httpcore==1.*->httpx<1,>=0.23.0->langsmith<0.2.0,>=0.1.17->langchain==0.2.0) (0.16.0)\n",
            "Requirement already satisfied: jsonpointer>=1.9 in /usr/local/lib/python3.11/dist-packages (from jsonpatch<2.0,>=1.33->langchain-core<0.3.0,>=0.2.0->langchain==0.2.0) (3.0.0)\n",
            "Collecting mypy-extensions>=0.3.0 (from typing-inspect<1,>=0.4.0->dataclasses-json<0.7,>=0.5.7->langchain==0.2.0)\n",
            "  Downloading mypy_extensions-1.1.0-py3-none-any.whl.metadata (1.1 kB)\n",
            "Downloading langchain-0.2.0-py3-none-any.whl (973 kB)\n",
            "\u001b[2K   \u001b[90m━━━━━━━━━━━━━━━━━━━━━━━━━━━━━━━━━━━━━━━━\u001b[0m \u001b[32m973.7/973.7 kB\u001b[0m \u001b[31m53.2 MB/s\u001b[0m eta \u001b[36m0:00:00\u001b[0m\n",
            "\u001b[?25hDownloading dataclasses_json-0.6.7-py3-none-any.whl (28 kB)\n",
            "Downloading langchain_core-0.2.43-py3-none-any.whl (397 kB)\n",
            "\u001b[2K   \u001b[90m━━━━━━━━━━━━━━━━━━━━━━━━━━━━━━━━━━━━━━━━\u001b[0m \u001b[32m397.1/397.1 kB\u001b[0m \u001b[31m31.8 MB/s\u001b[0m eta \u001b[36m0:00:00\u001b[0m\n",
            "\u001b[?25hDownloading langchain_text_splitters-0.2.4-py3-none-any.whl (25 kB)\n",
            "Downloading langsmith-0.1.147-py3-none-any.whl (311 kB)\n",
            "\u001b[2K   \u001b[90m━━━━━━━━━━━━━━━━━━━━━━━━━━━━━━━━━━━━━━━━\u001b[0m \u001b[32m311.8/311.8 kB\u001b[0m \u001b[31m27.6 MB/s\u001b[0m eta \u001b[36m0:00:00\u001b[0m\n",
            "\u001b[?25hDownloading numpy-1.26.4-cp311-cp311-manylinux_2_17_x86_64.manylinux2014_x86_64.whl (18.3 MB)\n",
            "\u001b[2K   \u001b[90m━━━━━━━━━━━━━━━━━━━━━━━━━━━━━━━━━━━━━━━━\u001b[0m \u001b[32m18.3/18.3 MB\u001b[0m \u001b[31m86.1 MB/s\u001b[0m eta \u001b[36m0:00:00\u001b[0m\n",
            "\u001b[?25hDownloading tenacity-8.5.0-py3-none-any.whl (28 kB)\n",
            "Downloading marshmallow-3.26.1-py3-none-any.whl (50 kB)\n",
            "\u001b[2K   \u001b[90m━━━━━━━━━━━━━━━━━━━━━━━━━━━━━━━━━━━━━━━━\u001b[0m \u001b[32m50.9/50.9 kB\u001b[0m \u001b[31m4.2 MB/s\u001b[0m eta \u001b[36m0:00:00\u001b[0m\n",
            "\u001b[?25hDownloading typing_inspect-0.9.0-py3-none-any.whl (8.8 kB)\n",
            "Downloading mypy_extensions-1.1.0-py3-none-any.whl (5.0 kB)\n",
            "Installing collected packages: tenacity, numpy, mypy-extensions, marshmallow, typing-inspect, langsmith, dataclasses-json, langchain-core, langchain-text-splitters, langchain\n",
            "  Attempting uninstall: tenacity\n",
            "    Found existing installation: tenacity 9.1.2\n",
            "    Uninstalling tenacity-9.1.2:\n",
            "      Successfully uninstalled tenacity-9.1.2\n",
            "  Attempting uninstall: numpy\n",
            "    Found existing installation: numpy 2.0.2\n",
            "    Uninstalling numpy-2.0.2:\n",
            "      Successfully uninstalled numpy-2.0.2\n",
            "  Attempting uninstall: langsmith\n",
            "    Found existing installation: langsmith 0.3.42\n",
            "    Uninstalling langsmith-0.3.42:\n",
            "      Successfully uninstalled langsmith-0.3.42\n",
            "  Attempting uninstall: langchain-core\n",
            "    Found existing installation: langchain-core 0.3.60\n",
            "    Uninstalling langchain-core-0.3.60:\n",
            "      Successfully uninstalled langchain-core-0.3.60\n",
            "  Attempting uninstall: langchain-text-splitters\n",
            "    Found existing installation: langchain-text-splitters 0.3.8\n",
            "    Uninstalling langchain-text-splitters-0.3.8:\n",
            "      Successfully uninstalled langchain-text-splitters-0.3.8\n",
            "  Attempting uninstall: langchain\n",
            "    Found existing installation: langchain 0.3.25\n",
            "    Uninstalling langchain-0.3.25:\n",
            "      Successfully uninstalled langchain-0.3.25\n",
            "\u001b[31mERROR: pip's dependency resolver does not currently take into account all the packages that are installed. This behaviour is the source of the following dependency conflicts.\n",
            "thinc 8.3.6 requires numpy<3.0.0,>=2.0.0, but you have numpy 1.26.4 which is incompatible.\u001b[0m\u001b[31m\n",
            "\u001b[0mSuccessfully installed dataclasses-json-0.6.7 langchain-0.2.0 langchain-core-0.2.43 langchain-text-splitters-0.2.4 langsmith-0.1.147 marshmallow-3.26.1 mypy-extensions-1.1.0 numpy-1.26.4 tenacity-8.5.0 typing-inspect-0.9.0\n",
            "Collecting langchain-openai==0.1.7\n",
            "  Downloading langchain_openai-0.1.7-py3-none-any.whl.metadata (2.5 kB)\n",
            "Requirement already satisfied: langchain-core<0.3,>=0.1.46 in /usr/local/lib/python3.11/dist-packages (from langchain-openai==0.1.7) (0.2.43)\n",
            "Requirement already satisfied: openai<2.0.0,>=1.24.0 in /usr/local/lib/python3.11/dist-packages (from langchain-openai==0.1.7) (1.81.0)\n",
            "Requirement already satisfied: tiktoken<1,>=0.7 in /usr/local/lib/python3.11/dist-packages (from langchain-openai==0.1.7) (0.9.0)\n",
            "Requirement already satisfied: PyYAML>=5.3 in /usr/local/lib/python3.11/dist-packages (from langchain-core<0.3,>=0.1.46->langchain-openai==0.1.7) (6.0.2)\n",
            "Requirement already satisfied: jsonpatch<2.0,>=1.33 in /usr/local/lib/python3.11/dist-packages (from langchain-core<0.3,>=0.1.46->langchain-openai==0.1.7) (1.33)\n",
            "Requirement already satisfied: langsmith<0.2.0,>=0.1.112 in /usr/local/lib/python3.11/dist-packages (from langchain-core<0.3,>=0.1.46->langchain-openai==0.1.7) (0.1.147)\n",
            "Requirement already satisfied: packaging<25,>=23.2 in /usr/local/lib/python3.11/dist-packages (from langchain-core<0.3,>=0.1.46->langchain-openai==0.1.7) (24.2)\n",
            "Requirement already satisfied: pydantic<3,>=1 in /usr/local/lib/python3.11/dist-packages (from langchain-core<0.3,>=0.1.46->langchain-openai==0.1.7) (2.11.4)\n",
            "Requirement already satisfied: tenacity!=8.4.0,<9.0.0,>=8.1.0 in /usr/local/lib/python3.11/dist-packages (from langchain-core<0.3,>=0.1.46->langchain-openai==0.1.7) (8.5.0)\n",
            "Requirement already satisfied: typing-extensions>=4.7 in /usr/local/lib/python3.11/dist-packages (from langchain-core<0.3,>=0.1.46->langchain-openai==0.1.7) (4.13.2)\n",
            "Requirement already satisfied: anyio<5,>=3.5.0 in /usr/local/lib/python3.11/dist-packages (from openai<2.0.0,>=1.24.0->langchain-openai==0.1.7) (4.9.0)\n",
            "Requirement already satisfied: distro<2,>=1.7.0 in /usr/local/lib/python3.11/dist-packages (from openai<2.0.0,>=1.24.0->langchain-openai==0.1.7) (1.9.0)\n",
            "Requirement already satisfied: httpx<1,>=0.23.0 in /usr/local/lib/python3.11/dist-packages (from openai<2.0.0,>=1.24.0->langchain-openai==0.1.7) (0.27.2)\n",
            "Requirement already satisfied: jiter<1,>=0.4.0 in /usr/local/lib/python3.11/dist-packages (from openai<2.0.0,>=1.24.0->langchain-openai==0.1.7) (0.10.0)\n",
            "Requirement already satisfied: sniffio in /usr/local/lib/python3.11/dist-packages (from openai<2.0.0,>=1.24.0->langchain-openai==0.1.7) (1.3.1)\n",
            "Requirement already satisfied: tqdm>4 in /usr/local/lib/python3.11/dist-packages (from openai<2.0.0,>=1.24.0->langchain-openai==0.1.7) (4.67.1)\n",
            "Requirement already satisfied: regex>=2022.1.18 in /usr/local/lib/python3.11/dist-packages (from tiktoken<1,>=0.7->langchain-openai==0.1.7) (2024.11.6)\n",
            "Requirement already satisfied: requests>=2.26.0 in /usr/local/lib/python3.11/dist-packages (from tiktoken<1,>=0.7->langchain-openai==0.1.7) (2.32.3)\n",
            "Requirement already satisfied: idna>=2.8 in /usr/local/lib/python3.11/dist-packages (from anyio<5,>=3.5.0->openai<2.0.0,>=1.24.0->langchain-openai==0.1.7) (3.10)\n",
            "Requirement already satisfied: certifi in /usr/local/lib/python3.11/dist-packages (from httpx<1,>=0.23.0->openai<2.0.0,>=1.24.0->langchain-openai==0.1.7) (2025.4.26)\n",
            "Requirement already satisfied: httpcore==1.* in /usr/local/lib/python3.11/dist-packages (from httpx<1,>=0.23.0->openai<2.0.0,>=1.24.0->langchain-openai==0.1.7) (1.0.9)\n",
            "Requirement already satisfied: h11>=0.16 in /usr/local/lib/python3.11/dist-packages (from httpcore==1.*->httpx<1,>=0.23.0->openai<2.0.0,>=1.24.0->langchain-openai==0.1.7) (0.16.0)\n",
            "Requirement already satisfied: jsonpointer>=1.9 in /usr/local/lib/python3.11/dist-packages (from jsonpatch<2.0,>=1.33->langchain-core<0.3,>=0.1.46->langchain-openai==0.1.7) (3.0.0)\n",
            "Requirement already satisfied: orjson<4.0.0,>=3.9.14 in /usr/local/lib/python3.11/dist-packages (from langsmith<0.2.0,>=0.1.112->langchain-core<0.3,>=0.1.46->langchain-openai==0.1.7) (3.10.18)\n",
            "Requirement already satisfied: requests-toolbelt<2.0.0,>=1.0.0 in /usr/local/lib/python3.11/dist-packages (from langsmith<0.2.0,>=0.1.112->langchain-core<0.3,>=0.1.46->langchain-openai==0.1.7) (1.0.0)\n",
            "Requirement already satisfied: annotated-types>=0.6.0 in /usr/local/lib/python3.11/dist-packages (from pydantic<3,>=1->langchain-core<0.3,>=0.1.46->langchain-openai==0.1.7) (0.7.0)\n",
            "Requirement already satisfied: pydantic-core==2.33.2 in /usr/local/lib/python3.11/dist-packages (from pydantic<3,>=1->langchain-core<0.3,>=0.1.46->langchain-openai==0.1.7) (2.33.2)\n",
            "Requirement already satisfied: typing-inspection>=0.4.0 in /usr/local/lib/python3.11/dist-packages (from pydantic<3,>=1->langchain-core<0.3,>=0.1.46->langchain-openai==0.1.7) (0.4.1)\n",
            "Requirement already satisfied: charset-normalizer<4,>=2 in /usr/local/lib/python3.11/dist-packages (from requests>=2.26.0->tiktoken<1,>=0.7->langchain-openai==0.1.7) (3.4.2)\n",
            "Requirement already satisfied: urllib3<3,>=1.21.1 in /usr/local/lib/python3.11/dist-packages (from requests>=2.26.0->tiktoken<1,>=0.7->langchain-openai==0.1.7) (2.4.0)\n",
            "Downloading langchain_openai-0.1.7-py3-none-any.whl (34 kB)\n",
            "Installing collected packages: langchain-openai\n",
            "Successfully installed langchain-openai-0.1.7\n",
            "Collecting langchain-community==0.2.0\n",
            "  Downloading langchain_community-0.2.0-py3-none-any.whl.metadata (8.8 kB)\n",
            "Requirement already satisfied: PyYAML>=5.3 in /usr/local/lib/python3.11/dist-packages (from langchain-community==0.2.0) (6.0.2)\n",
            "Requirement already satisfied: SQLAlchemy<3,>=1.4 in /usr/local/lib/python3.11/dist-packages (from langchain-community==0.2.0) (2.0.41)\n",
            "Requirement already satisfied: aiohttp<4.0.0,>=3.8.3 in /usr/local/lib/python3.11/dist-packages (from langchain-community==0.2.0) (3.11.15)\n",
            "Requirement already satisfied: dataclasses-json<0.7,>=0.5.7 in /usr/local/lib/python3.11/dist-packages (from langchain-community==0.2.0) (0.6.7)\n",
            "Requirement already satisfied: langchain<0.3.0,>=0.2.0 in /usr/local/lib/python3.11/dist-packages (from langchain-community==0.2.0) (0.2.0)\n",
            "Requirement already satisfied: langchain-core<0.3.0,>=0.2.0 in /usr/local/lib/python3.11/dist-packages (from langchain-community==0.2.0) (0.2.43)\n",
            "Requirement already satisfied: langsmith<0.2.0,>=0.1.0 in /usr/local/lib/python3.11/dist-packages (from langchain-community==0.2.0) (0.1.147)\n",
            "Requirement already satisfied: numpy<2,>=1 in /usr/local/lib/python3.11/dist-packages (from langchain-community==0.2.0) (1.26.4)\n",
            "Requirement already satisfied: requests<3,>=2 in /usr/local/lib/python3.11/dist-packages (from langchain-community==0.2.0) (2.32.3)\n",
            "Requirement already satisfied: tenacity<9.0.0,>=8.1.0 in /usr/local/lib/python3.11/dist-packages (from langchain-community==0.2.0) (8.5.0)\n",
            "Requirement already satisfied: aiohappyeyeballs>=2.3.0 in /usr/local/lib/python3.11/dist-packages (from aiohttp<4.0.0,>=3.8.3->langchain-community==0.2.0) (2.6.1)\n",
            "Requirement already satisfied: aiosignal>=1.1.2 in /usr/local/lib/python3.11/dist-packages (from aiohttp<4.0.0,>=3.8.3->langchain-community==0.2.0) (1.3.2)\n",
            "Requirement already satisfied: attrs>=17.3.0 in /usr/local/lib/python3.11/dist-packages (from aiohttp<4.0.0,>=3.8.3->langchain-community==0.2.0) (25.3.0)\n",
            "Requirement already satisfied: frozenlist>=1.1.1 in /usr/local/lib/python3.11/dist-packages (from aiohttp<4.0.0,>=3.8.3->langchain-community==0.2.0) (1.6.0)\n",
            "Requirement already satisfied: multidict<7.0,>=4.5 in /usr/local/lib/python3.11/dist-packages (from aiohttp<4.0.0,>=3.8.3->langchain-community==0.2.0) (6.4.4)\n",
            "Requirement already satisfied: propcache>=0.2.0 in /usr/local/lib/python3.11/dist-packages (from aiohttp<4.0.0,>=3.8.3->langchain-community==0.2.0) (0.3.1)\n",
            "Requirement already satisfied: yarl<2.0,>=1.17.0 in /usr/local/lib/python3.11/dist-packages (from aiohttp<4.0.0,>=3.8.3->langchain-community==0.2.0) (1.20.0)\n",
            "Requirement already satisfied: marshmallow<4.0.0,>=3.18.0 in /usr/local/lib/python3.11/dist-packages (from dataclasses-json<0.7,>=0.5.7->langchain-community==0.2.0) (3.26.1)\n",
            "Requirement already satisfied: typing-inspect<1,>=0.4.0 in /usr/local/lib/python3.11/dist-packages (from dataclasses-json<0.7,>=0.5.7->langchain-community==0.2.0) (0.9.0)\n",
            "Requirement already satisfied: langchain-text-splitters<0.3.0,>=0.2.0 in /usr/local/lib/python3.11/dist-packages (from langchain<0.3.0,>=0.2.0->langchain-community==0.2.0) (0.2.4)\n",
            "Requirement already satisfied: pydantic<3,>=1 in /usr/local/lib/python3.11/dist-packages (from langchain<0.3.0,>=0.2.0->langchain-community==0.2.0) (2.11.4)\n",
            "Requirement already satisfied: jsonpatch<2.0,>=1.33 in /usr/local/lib/python3.11/dist-packages (from langchain-core<0.3.0,>=0.2.0->langchain-community==0.2.0) (1.33)\n",
            "Requirement already satisfied: packaging<25,>=23.2 in /usr/local/lib/python3.11/dist-packages (from langchain-core<0.3.0,>=0.2.0->langchain-community==0.2.0) (24.2)\n",
            "Requirement already satisfied: typing-extensions>=4.7 in /usr/local/lib/python3.11/dist-packages (from langchain-core<0.3.0,>=0.2.0->langchain-community==0.2.0) (4.13.2)\n",
            "Requirement already satisfied: httpx<1,>=0.23.0 in /usr/local/lib/python3.11/dist-packages (from langsmith<0.2.0,>=0.1.0->langchain-community==0.2.0) (0.27.2)\n",
            "Requirement already satisfied: orjson<4.0.0,>=3.9.14 in /usr/local/lib/python3.11/dist-packages (from langsmith<0.2.0,>=0.1.0->langchain-community==0.2.0) (3.10.18)\n",
            "Requirement already satisfied: requests-toolbelt<2.0.0,>=1.0.0 in /usr/local/lib/python3.11/dist-packages (from langsmith<0.2.0,>=0.1.0->langchain-community==0.2.0) (1.0.0)\n",
            "Requirement already satisfied: charset-normalizer<4,>=2 in /usr/local/lib/python3.11/dist-packages (from requests<3,>=2->langchain-community==0.2.0) (3.4.2)\n",
            "Requirement already satisfied: idna<4,>=2.5 in /usr/local/lib/python3.11/dist-packages (from requests<3,>=2->langchain-community==0.2.0) (3.10)\n",
            "Requirement already satisfied: urllib3<3,>=1.21.1 in /usr/local/lib/python3.11/dist-packages (from requests<3,>=2->langchain-community==0.2.0) (2.4.0)\n",
            "Requirement already satisfied: certifi>=2017.4.17 in /usr/local/lib/python3.11/dist-packages (from requests<3,>=2->langchain-community==0.2.0) (2025.4.26)\n",
            "Requirement already satisfied: greenlet>=1 in /usr/local/lib/python3.11/dist-packages (from SQLAlchemy<3,>=1.4->langchain-community==0.2.0) (3.2.2)\n",
            "Requirement already satisfied: anyio in /usr/local/lib/python3.11/dist-packages (from httpx<1,>=0.23.0->langsmith<0.2.0,>=0.1.0->langchain-community==0.2.0) (4.9.0)\n",
            "Requirement already satisfied: httpcore==1.* in /usr/local/lib/python3.11/dist-packages (from httpx<1,>=0.23.0->langsmith<0.2.0,>=0.1.0->langchain-community==0.2.0) (1.0.9)\n",
            "Requirement already satisfied: sniffio in /usr/local/lib/python3.11/dist-packages (from httpx<1,>=0.23.0->langsmith<0.2.0,>=0.1.0->langchain-community==0.2.0) (1.3.1)\n",
            "Requirement already satisfied: h11>=0.16 in /usr/local/lib/python3.11/dist-packages (from httpcore==1.*->httpx<1,>=0.23.0->langsmith<0.2.0,>=0.1.0->langchain-community==0.2.0) (0.16.0)\n",
            "Requirement already satisfied: jsonpointer>=1.9 in /usr/local/lib/python3.11/dist-packages (from jsonpatch<2.0,>=1.33->langchain-core<0.3.0,>=0.2.0->langchain-community==0.2.0) (3.0.0)\n",
            "Requirement already satisfied: annotated-types>=0.6.0 in /usr/local/lib/python3.11/dist-packages (from pydantic<3,>=1->langchain<0.3.0,>=0.2.0->langchain-community==0.2.0) (0.7.0)\n",
            "Requirement already satisfied: pydantic-core==2.33.2 in /usr/local/lib/python3.11/dist-packages (from pydantic<3,>=1->langchain<0.3.0,>=0.2.0->langchain-community==0.2.0) (2.33.2)\n",
            "Requirement already satisfied: typing-inspection>=0.4.0 in /usr/local/lib/python3.11/dist-packages (from pydantic<3,>=1->langchain<0.3.0,>=0.2.0->langchain-community==0.2.0) (0.4.1)\n",
            "Requirement already satisfied: mypy-extensions>=0.3.0 in /usr/local/lib/python3.11/dist-packages (from typing-inspect<1,>=0.4.0->dataclasses-json<0.7,>=0.5.7->langchain-community==0.2.0) (1.1.0)\n",
            "Downloading langchain_community-0.2.0-py3-none-any.whl (2.1 MB)\n",
            "\u001b[2K   \u001b[90m━━━━━━━━━━━━━━━━━━━━━━━━━━━━━━━━━━━━━━━━\u001b[0m \u001b[32m2.1/2.1 MB\u001b[0m \u001b[31m65.9 MB/s\u001b[0m eta \u001b[36m0:00:00\u001b[0m\n",
            "\u001b[?25hInstalling collected packages: langchain-community\n",
            "Successfully installed langchain-community-0.2.0\n",
            "Collecting langgraph==0.1.1\n",
            "  Downloading langgraph-0.1.1-py3-none-any.whl.metadata (11 kB)\n",
            "Requirement already satisfied: langchain-core<0.3,>=0.2 in /usr/local/lib/python3.11/dist-packages (from langgraph==0.1.1) (0.2.43)\n",
            "Requirement already satisfied: PyYAML>=5.3 in /usr/local/lib/python3.11/dist-packages (from langchain-core<0.3,>=0.2->langgraph==0.1.1) (6.0.2)\n",
            "Requirement already satisfied: jsonpatch<2.0,>=1.33 in /usr/local/lib/python3.11/dist-packages (from langchain-core<0.3,>=0.2->langgraph==0.1.1) (1.33)\n",
            "Requirement already satisfied: langsmith<0.2.0,>=0.1.112 in /usr/local/lib/python3.11/dist-packages (from langchain-core<0.3,>=0.2->langgraph==0.1.1) (0.1.147)\n",
            "Requirement already satisfied: packaging<25,>=23.2 in /usr/local/lib/python3.11/dist-packages (from langchain-core<0.3,>=0.2->langgraph==0.1.1) (24.2)\n",
            "Requirement already satisfied: pydantic<3,>=1 in /usr/local/lib/python3.11/dist-packages (from langchain-core<0.3,>=0.2->langgraph==0.1.1) (2.11.4)\n",
            "Requirement already satisfied: tenacity!=8.4.0,<9.0.0,>=8.1.0 in /usr/local/lib/python3.11/dist-packages (from langchain-core<0.3,>=0.2->langgraph==0.1.1) (8.5.0)\n",
            "Requirement already satisfied: typing-extensions>=4.7 in /usr/local/lib/python3.11/dist-packages (from langchain-core<0.3,>=0.2->langgraph==0.1.1) (4.13.2)\n",
            "Requirement already satisfied: jsonpointer>=1.9 in /usr/local/lib/python3.11/dist-packages (from jsonpatch<2.0,>=1.33->langchain-core<0.3,>=0.2->langgraph==0.1.1) (3.0.0)\n",
            "Requirement already satisfied: httpx<1,>=0.23.0 in /usr/local/lib/python3.11/dist-packages (from langsmith<0.2.0,>=0.1.112->langchain-core<0.3,>=0.2->langgraph==0.1.1) (0.27.2)\n",
            "Requirement already satisfied: orjson<4.0.0,>=3.9.14 in /usr/local/lib/python3.11/dist-packages (from langsmith<0.2.0,>=0.1.112->langchain-core<0.3,>=0.2->langgraph==0.1.1) (3.10.18)\n",
            "Requirement already satisfied: requests<3,>=2 in /usr/local/lib/python3.11/dist-packages (from langsmith<0.2.0,>=0.1.112->langchain-core<0.3,>=0.2->langgraph==0.1.1) (2.32.3)\n",
            "Requirement already satisfied: requests-toolbelt<2.0.0,>=1.0.0 in /usr/local/lib/python3.11/dist-packages (from langsmith<0.2.0,>=0.1.112->langchain-core<0.3,>=0.2->langgraph==0.1.1) (1.0.0)\n",
            "Requirement already satisfied: annotated-types>=0.6.0 in /usr/local/lib/python3.11/dist-packages (from pydantic<3,>=1->langchain-core<0.3,>=0.2->langgraph==0.1.1) (0.7.0)\n",
            "Requirement already satisfied: pydantic-core==2.33.2 in /usr/local/lib/python3.11/dist-packages (from pydantic<3,>=1->langchain-core<0.3,>=0.2->langgraph==0.1.1) (2.33.2)\n",
            "Requirement already satisfied: typing-inspection>=0.4.0 in /usr/local/lib/python3.11/dist-packages (from pydantic<3,>=1->langchain-core<0.3,>=0.2->langgraph==0.1.1) (0.4.1)\n",
            "Requirement already satisfied: anyio in /usr/local/lib/python3.11/dist-packages (from httpx<1,>=0.23.0->langsmith<0.2.0,>=0.1.112->langchain-core<0.3,>=0.2->langgraph==0.1.1) (4.9.0)\n",
            "Requirement already satisfied: certifi in /usr/local/lib/python3.11/dist-packages (from httpx<1,>=0.23.0->langsmith<0.2.0,>=0.1.112->langchain-core<0.3,>=0.2->langgraph==0.1.1) (2025.4.26)\n",
            "Requirement already satisfied: httpcore==1.* in /usr/local/lib/python3.11/dist-packages (from httpx<1,>=0.23.0->langsmith<0.2.0,>=0.1.112->langchain-core<0.3,>=0.2->langgraph==0.1.1) (1.0.9)\n",
            "Requirement already satisfied: idna in /usr/local/lib/python3.11/dist-packages (from httpx<1,>=0.23.0->langsmith<0.2.0,>=0.1.112->langchain-core<0.3,>=0.2->langgraph==0.1.1) (3.10)\n",
            "Requirement already satisfied: sniffio in /usr/local/lib/python3.11/dist-packages (from httpx<1,>=0.23.0->langsmith<0.2.0,>=0.1.112->langchain-core<0.3,>=0.2->langgraph==0.1.1) (1.3.1)\n",
            "Requirement already satisfied: h11>=0.16 in /usr/local/lib/python3.11/dist-packages (from httpcore==1.*->httpx<1,>=0.23.0->langsmith<0.2.0,>=0.1.112->langchain-core<0.3,>=0.2->langgraph==0.1.1) (0.16.0)\n",
            "Requirement already satisfied: charset-normalizer<4,>=2 in /usr/local/lib/python3.11/dist-packages (from requests<3,>=2->langsmith<0.2.0,>=0.1.112->langchain-core<0.3,>=0.2->langgraph==0.1.1) (3.4.2)\n",
            "Requirement already satisfied: urllib3<3,>=1.21.1 in /usr/local/lib/python3.11/dist-packages (from requests<3,>=2->langsmith<0.2.0,>=0.1.112->langchain-core<0.3,>=0.2->langgraph==0.1.1) (2.4.0)\n",
            "Downloading langgraph-0.1.1-py3-none-any.whl (87 kB)\n",
            "\u001b[2K   \u001b[90m━━━━━━━━━━━━━━━━━━━━━━━━━━━━━━━━━━━━━━━━\u001b[0m \u001b[32m87.3/87.3 kB\u001b[0m \u001b[31m8.3 MB/s\u001b[0m eta \u001b[36m0:00:00\u001b[0m\n",
            "\u001b[?25hInstalling collected packages: langgraph\n",
            "Successfully installed langgraph-0.1.1\n",
            "Collecting langchain-experimental==0.0.62\n",
            "  Downloading langchain_experimental-0.0.62-py3-none-any.whl.metadata (1.5 kB)\n",
            "Collecting langchain-community<0.3.0,>=0.2.6 (from langchain-experimental==0.0.62)\n",
            "  Downloading langchain_community-0.2.19-py3-none-any.whl.metadata (2.7 kB)\n",
            "Requirement already satisfied: langchain-core<0.3.0,>=0.2.10 in /usr/local/lib/python3.11/dist-packages (from langchain-experimental==0.0.62) (0.2.43)\n",
            "Requirement already satisfied: PyYAML>=5.3 in /usr/local/lib/python3.11/dist-packages (from langchain-community<0.3.0,>=0.2.6->langchain-experimental==0.0.62) (6.0.2)\n",
            "Requirement already satisfied: SQLAlchemy<3,>=1.4 in /usr/local/lib/python3.11/dist-packages (from langchain-community<0.3.0,>=0.2.6->langchain-experimental==0.0.62) (2.0.41)\n",
            "Requirement already satisfied: aiohttp<4.0.0,>=3.8.3 in /usr/local/lib/python3.11/dist-packages (from langchain-community<0.3.0,>=0.2.6->langchain-experimental==0.0.62) (3.11.15)\n",
            "Requirement already satisfied: dataclasses-json<0.7,>=0.5.7 in /usr/local/lib/python3.11/dist-packages (from langchain-community<0.3.0,>=0.2.6->langchain-experimental==0.0.62) (0.6.7)\n",
            "Collecting langchain<0.3.0,>=0.2.17 (from langchain-community<0.3.0,>=0.2.6->langchain-experimental==0.0.62)\n",
            "  Downloading langchain-0.2.17-py3-none-any.whl.metadata (7.1 kB)\n",
            "Requirement already satisfied: langsmith<0.2.0,>=0.1.112 in /usr/local/lib/python3.11/dist-packages (from langchain-community<0.3.0,>=0.2.6->langchain-experimental==0.0.62) (0.1.147)\n",
            "Requirement already satisfied: numpy<2,>=1 in /usr/local/lib/python3.11/dist-packages (from langchain-community<0.3.0,>=0.2.6->langchain-experimental==0.0.62) (1.26.4)\n",
            "Requirement already satisfied: requests<3,>=2 in /usr/local/lib/python3.11/dist-packages (from langchain-community<0.3.0,>=0.2.6->langchain-experimental==0.0.62) (2.32.3)\n",
            "Requirement already satisfied: tenacity!=8.4.0,<9.0.0,>=8.1.0 in /usr/local/lib/python3.11/dist-packages (from langchain-community<0.3.0,>=0.2.6->langchain-experimental==0.0.62) (8.5.0)\n",
            "Requirement already satisfied: jsonpatch<2.0,>=1.33 in /usr/local/lib/python3.11/dist-packages (from langchain-core<0.3.0,>=0.2.10->langchain-experimental==0.0.62) (1.33)\n",
            "Requirement already satisfied: packaging<25,>=23.2 in /usr/local/lib/python3.11/dist-packages (from langchain-core<0.3.0,>=0.2.10->langchain-experimental==0.0.62) (24.2)\n",
            "Requirement already satisfied: pydantic<3,>=1 in /usr/local/lib/python3.11/dist-packages (from langchain-core<0.3.0,>=0.2.10->langchain-experimental==0.0.62) (2.11.4)\n",
            "Requirement already satisfied: typing-extensions>=4.7 in /usr/local/lib/python3.11/dist-packages (from langchain-core<0.3.0,>=0.2.10->langchain-experimental==0.0.62) (4.13.2)\n",
            "Requirement already satisfied: aiohappyeyeballs>=2.3.0 in /usr/local/lib/python3.11/dist-packages (from aiohttp<4.0.0,>=3.8.3->langchain-community<0.3.0,>=0.2.6->langchain-experimental==0.0.62) (2.6.1)\n",
            "Requirement already satisfied: aiosignal>=1.1.2 in /usr/local/lib/python3.11/dist-packages (from aiohttp<4.0.0,>=3.8.3->langchain-community<0.3.0,>=0.2.6->langchain-experimental==0.0.62) (1.3.2)\n",
            "Requirement already satisfied: attrs>=17.3.0 in /usr/local/lib/python3.11/dist-packages (from aiohttp<4.0.0,>=3.8.3->langchain-community<0.3.0,>=0.2.6->langchain-experimental==0.0.62) (25.3.0)\n",
            "Requirement already satisfied: frozenlist>=1.1.1 in /usr/local/lib/python3.11/dist-packages (from aiohttp<4.0.0,>=3.8.3->langchain-community<0.3.0,>=0.2.6->langchain-experimental==0.0.62) (1.6.0)\n",
            "Requirement already satisfied: multidict<7.0,>=4.5 in /usr/local/lib/python3.11/dist-packages (from aiohttp<4.0.0,>=3.8.3->langchain-community<0.3.0,>=0.2.6->langchain-experimental==0.0.62) (6.4.4)\n",
            "Requirement already satisfied: propcache>=0.2.0 in /usr/local/lib/python3.11/dist-packages (from aiohttp<4.0.0,>=3.8.3->langchain-community<0.3.0,>=0.2.6->langchain-experimental==0.0.62) (0.3.1)\n",
            "Requirement already satisfied: yarl<2.0,>=1.17.0 in /usr/local/lib/python3.11/dist-packages (from aiohttp<4.0.0,>=3.8.3->langchain-community<0.3.0,>=0.2.6->langchain-experimental==0.0.62) (1.20.0)\n",
            "Requirement already satisfied: marshmallow<4.0.0,>=3.18.0 in /usr/local/lib/python3.11/dist-packages (from dataclasses-json<0.7,>=0.5.7->langchain-community<0.3.0,>=0.2.6->langchain-experimental==0.0.62) (3.26.1)\n",
            "Requirement already satisfied: typing-inspect<1,>=0.4.0 in /usr/local/lib/python3.11/dist-packages (from dataclasses-json<0.7,>=0.5.7->langchain-community<0.3.0,>=0.2.6->langchain-experimental==0.0.62) (0.9.0)\n",
            "Requirement already satisfied: jsonpointer>=1.9 in /usr/local/lib/python3.11/dist-packages (from jsonpatch<2.0,>=1.33->langchain-core<0.3.0,>=0.2.10->langchain-experimental==0.0.62) (3.0.0)\n",
            "Requirement already satisfied: langchain-text-splitters<0.3.0,>=0.2.0 in /usr/local/lib/python3.11/dist-packages (from langchain<0.3.0,>=0.2.17->langchain-community<0.3.0,>=0.2.6->langchain-experimental==0.0.62) (0.2.4)\n",
            "Requirement already satisfied: httpx<1,>=0.23.0 in /usr/local/lib/python3.11/dist-packages (from langsmith<0.2.0,>=0.1.112->langchain-community<0.3.0,>=0.2.6->langchain-experimental==0.0.62) (0.27.2)\n",
            "Requirement already satisfied: orjson<4.0.0,>=3.9.14 in /usr/local/lib/python3.11/dist-packages (from langsmith<0.2.0,>=0.1.112->langchain-community<0.3.0,>=0.2.6->langchain-experimental==0.0.62) (3.10.18)\n",
            "Requirement already satisfied: requests-toolbelt<2.0.0,>=1.0.0 in /usr/local/lib/python3.11/dist-packages (from langsmith<0.2.0,>=0.1.112->langchain-community<0.3.0,>=0.2.6->langchain-experimental==0.0.62) (1.0.0)\n",
            "Requirement already satisfied: annotated-types>=0.6.0 in /usr/local/lib/python3.11/dist-packages (from pydantic<3,>=1->langchain-core<0.3.0,>=0.2.10->langchain-experimental==0.0.62) (0.7.0)\n",
            "Requirement already satisfied: pydantic-core==2.33.2 in /usr/local/lib/python3.11/dist-packages (from pydantic<3,>=1->langchain-core<0.3.0,>=0.2.10->langchain-experimental==0.0.62) (2.33.2)\n",
            "Requirement already satisfied: typing-inspection>=0.4.0 in /usr/local/lib/python3.11/dist-packages (from pydantic<3,>=1->langchain-core<0.3.0,>=0.2.10->langchain-experimental==0.0.62) (0.4.1)\n",
            "Requirement already satisfied: charset-normalizer<4,>=2 in /usr/local/lib/python3.11/dist-packages (from requests<3,>=2->langchain-community<0.3.0,>=0.2.6->langchain-experimental==0.0.62) (3.4.2)\n",
            "Requirement already satisfied: idna<4,>=2.5 in /usr/local/lib/python3.11/dist-packages (from requests<3,>=2->langchain-community<0.3.0,>=0.2.6->langchain-experimental==0.0.62) (3.10)\n",
            "Requirement already satisfied: urllib3<3,>=1.21.1 in /usr/local/lib/python3.11/dist-packages (from requests<3,>=2->langchain-community<0.3.0,>=0.2.6->langchain-experimental==0.0.62) (2.4.0)\n",
            "Requirement already satisfied: certifi>=2017.4.17 in /usr/local/lib/python3.11/dist-packages (from requests<3,>=2->langchain-community<0.3.0,>=0.2.6->langchain-experimental==0.0.62) (2025.4.26)\n",
            "Requirement already satisfied: greenlet>=1 in /usr/local/lib/python3.11/dist-packages (from SQLAlchemy<3,>=1.4->langchain-community<0.3.0,>=0.2.6->langchain-experimental==0.0.62) (3.2.2)\n",
            "Requirement already satisfied: anyio in /usr/local/lib/python3.11/dist-packages (from httpx<1,>=0.23.0->langsmith<0.2.0,>=0.1.112->langchain-community<0.3.0,>=0.2.6->langchain-experimental==0.0.62) (4.9.0)\n",
            "Requirement already satisfied: httpcore==1.* in /usr/local/lib/python3.11/dist-packages (from httpx<1,>=0.23.0->langsmith<0.2.0,>=0.1.112->langchain-community<0.3.0,>=0.2.6->langchain-experimental==0.0.62) (1.0.9)\n",
            "Requirement already satisfied: sniffio in /usr/local/lib/python3.11/dist-packages (from httpx<1,>=0.23.0->langsmith<0.2.0,>=0.1.112->langchain-community<0.3.0,>=0.2.6->langchain-experimental==0.0.62) (1.3.1)\n",
            "Requirement already satisfied: h11>=0.16 in /usr/local/lib/python3.11/dist-packages (from httpcore==1.*->httpx<1,>=0.23.0->langsmith<0.2.0,>=0.1.112->langchain-community<0.3.0,>=0.2.6->langchain-experimental==0.0.62) (0.16.0)\n",
            "Requirement already satisfied: mypy-extensions>=0.3.0 in /usr/local/lib/python3.11/dist-packages (from typing-inspect<1,>=0.4.0->dataclasses-json<0.7,>=0.5.7->langchain-community<0.3.0,>=0.2.6->langchain-experimental==0.0.62) (1.1.0)\n",
            "Downloading langchain_experimental-0.0.62-py3-none-any.whl (202 kB)\n",
            "\u001b[2K   \u001b[90m━━━━━━━━━━━━━━━━━━━━━━━━━━━━━━━━━━━━━━━━\u001b[0m \u001b[32m202.7/202.7 kB\u001b[0m \u001b[31m12.7 MB/s\u001b[0m eta \u001b[36m0:00:00\u001b[0m\n",
            "\u001b[?25hDownloading langchain_community-0.2.19-py3-none-any.whl (2.3 MB)\n",
            "\u001b[2K   \u001b[90m━━━━━━━━━━━━━━━━━━━━━━━━━━━━━━━━━━━━━━━━\u001b[0m \u001b[32m2.3/2.3 MB\u001b[0m \u001b[31m69.5 MB/s\u001b[0m eta \u001b[36m0:00:00\u001b[0m\n",
            "\u001b[?25hDownloading langchain-0.2.17-py3-none-any.whl (1.0 MB)\n",
            "\u001b[2K   \u001b[90m━━━━━━━━━━━━━━━━━━━━━━━━━━━━━━━━━━━━━━━━\u001b[0m \u001b[32m1.0/1.0 MB\u001b[0m \u001b[31m49.2 MB/s\u001b[0m eta \u001b[36m0:00:00\u001b[0m\n",
            "\u001b[?25hInstalling collected packages: langchain, langchain-community, langchain-experimental\n",
            "  Attempting uninstall: langchain\n",
            "    Found existing installation: langchain 0.2.0\n",
            "    Uninstalling langchain-0.2.0:\n",
            "      Successfully uninstalled langchain-0.2.0\n",
            "  Attempting uninstall: langchain-community\n",
            "    Found existing installation: langchain-community 0.2.0\n",
            "    Uninstalling langchain-community-0.2.0:\n",
            "      Successfully uninstalled langchain-community-0.2.0\n",
            "Successfully installed langchain-0.2.17 langchain-community-0.2.19 langchain-experimental-0.0.62\n"
          ]
        }
      ],
      "source": [
        "!pip install langchain==0.2.0\n",
        "!pip install langchain-openai==0.1.7\n",
        "!pip install langchain-community==0.2.0\n",
        "!pip install langgraph==0.1.1\n",
        "!pip install langchain-experimental==0.0.62"
      ]
    },
    {
      "cell_type": "markdown",
      "metadata": {
        "id": "1T0s0um5Svfa"
      },
      "source": [
        "## Setup Environment Variables"
      ]
    },
    {
      "cell_type": "code",
      "execution_count": 3,
      "metadata": {
        "id": "x1YSuHNF_lbh"
      },
      "outputs": [],
      "source": [
        "from google.colab import userdata\n",
        "import os\n",
        "\n",
        "os.environ['TAVILY_API_KEY'] = userdata.get('TAVILY_API_KEY')\n",
        "os.environ['OPENAI_API_KEY'] = userdata.get('OPENAI_API_KEY')"
      ]
    },
    {
      "cell_type": "markdown",
      "metadata": {
        "id": "D2N5192vikJR"
      },
      "source": [
        "## Build Collaborative Multi-Agent System\n",
        "\n",
        "Here we will build the key components of our collaborative multi-agent system"
      ]
    },
    {
      "cell_type": "markdown",
      "metadata": {
        "id": "howf-v0ARWbv"
      },
      "source": [
        "## Create Tools\n",
        "\n",
        "Here we will be using the [Tavily API](https://tavily.com/#api) for our web searches"
      ]
    },
    {
      "cell_type": "code",
      "execution_count": 4,
      "metadata": {
        "id": "Ue8xgu9WpuPi"
      },
      "outputs": [],
      "source": [
        "from typing import Annotated\n",
        "from langchain_community.tools.tavily_search import TavilySearchResults\n",
        "from langchain_core.tools import tool\n",
        "from langchain_experimental.utilities import PythonREPL\n",
        "\n",
        "\n",
        "tv_search = TavilySearchResults(max_results=5, search_depth='advanced',\n",
        "                                max_tokens=10000)\n",
        "\n",
        "repl = PythonREPL()\n",
        "\n",
        "@tool\n",
        "def python_repl(code: Annotated[str, \"The python code to execute to generate your chart.\"],):\n",
        "    \"\"\"Use this to execute python code.\n",
        "       If you want to see the output of a value,\n",
        "       you should print it out with `print(...)`.\n",
        "\n",
        "       This is visible to the user.\"\"\"\n",
        "    try:\n",
        "        result = repl.run(code)\n",
        "    except BaseException as e:\n",
        "        return f\"Failed to execute. Error: {repr(e)}\"\n",
        "    result_str = f\"Successfully executed:\\n```python\\n{code}\\n```\\nStdout: {result}\"\n",
        "    return (result_str + \"\\n\\nIf you have completed all tasks, respond with FINAL ANSWER.\")"
      ]
    },
    {
      "cell_type": "markdown",
      "metadata": {
        "id": "U5tUXzqPsbQi"
      },
      "source": [
        "### Graph State\n",
        "\n",
        "We first define the state of the graph. This will just a list of messages, along with a key to track the most recent sender"
      ]
    },
    {
      "cell_type": "code",
      "execution_count": 5,
      "metadata": {
        "id": "_B2EFrwTpuXB"
      },
      "outputs": [],
      "source": [
        "import operator\n",
        "from typing import Annotated, Sequence, TypedDict\n",
        "from langchain_core.messages import BaseMessage\n",
        "\n",
        "# This defines the object that is passed between each node\n",
        "# in the graph. We will create different nodes for each agent and tool\n",
        "class AgentState(TypedDict):\n",
        "    messages: Annotated[Sequence[BaseMessage], operator.add]\n",
        "    sender: str"
      ]
    },
    {
      "cell_type": "markdown",
      "metadata": {
        "id": "QhtGxfgVRN5d"
      },
      "source": [
        "### Create Agents\n",
        "\n",
        "We will create two main agents here:\n",
        "\n",
        "1. The Researcher Agent which can access the web search tool to make web searches to get information on user queries\n",
        "2. The Chart Agent which can use python to create data visualizations"
      ]
    },
    {
      "cell_type": "code",
      "execution_count": 6,
      "metadata": {
        "id": "GeKCvIf0NiQR"
      },
      "outputs": [],
      "source": [
        "from langchain_openai import ChatOpenAI\n",
        "from langchain_core.prompts import ChatPromptTemplate, MessagesPlaceholder\n",
        "\n",
        "llm = ChatOpenAI(model=\"gpt-4o\", temperature=0)\n",
        "\n",
        "search_tool = [tv_search]\n",
        "search_tool_name = tv_search.name\n",
        "research_prompt = ChatPromptTemplate.from_messages(\n",
        "        [\n",
        "            (\"system\", f\"\"\"You are a helpful AI assistant, collaborating with other assistants.\n",
        "                          Use the provided tools to progress towards answering the question.\n",
        "                          If you are unable to fully answer, that's OK,\n",
        "                          another assistant with different tools will help where you left off.\n",
        "                          Execute what you can to make progress.\n",
        "                          If you or any of the other assistants have the final answer or deliverable,\n",
        "                          prefix your response with FINAL ANSWER so the team knows to stop.\n",
        "\n",
        "                          You have access to the following tools:\n",
        "                          {search_tool_name}\n",
        "\n",
        "                          You should provide accurate data for use\n",
        "                          and source code shouldn't be the final answer\n",
        "                       \"\"\",\n",
        "            ),\n",
        "            MessagesPlaceholder(variable_name=\"messages\"),\n",
        "        ]\n",
        "    )\n",
        "\n",
        "research_agent = (research_prompt\n",
        "                      |\n",
        "                  llm.bind_tools(search_tool))\n",
        "\n",
        "\n",
        "chart_tool = [python_repl]\n",
        "chart_tool_name = python_repl.name\n",
        "chart_prompt = ChatPromptTemplate.from_messages(\n",
        "        [\n",
        "            (\"system\", f\"\"\"You are a helpful AI assistant, collaborating with other assistants.\n",
        "                          Use the provided tools to progress towards answering the question.\n",
        "                          If you are unable to fully answer, that's OK,\n",
        "                          another assistant with different tools will help where you left off.\n",
        "                          Execute what you can to make progress.\n",
        "                          If you or any of the other assistants have the final answer or deliverable,\n",
        "                          prefix your response with FINAL ANSWER so the team knows to stop.\n",
        "\n",
        "                          You have access to the following tools:\n",
        "                          {chart_tool_name}\n",
        "\n",
        "                          Run the python code to display the chart\n",
        "                       \"\"\",\n",
        "            ),\n",
        "            MessagesPlaceholder(variable_name=\"messages\"),\n",
        "        ]\n",
        "    )\n",
        "\n",
        "chart_agent = (chart_prompt\n",
        "                  |\n",
        "               llm.bind_tools(chart_tool))"
      ]
    },
    {
      "cell_type": "markdown",
      "metadata": {
        "id": "5jCnfCQzRP_y"
      },
      "source": [
        "### Define Agent Nodes\n",
        "\n",
        "These functions would actually call the agents as necessary and update the state in the agent"
      ]
    },
    {
      "cell_type": "code",
      "execution_count": 7,
      "metadata": {
        "id": "m8T_0uSeRR34"
      },
      "outputs": [],
      "source": [
        "from langchain_core.messages import ToolMessage, AIMessage\n",
        "\n",
        "def research_agent_node(state):\n",
        "    result = research_agent.invoke(state)\n",
        "    # We convert the agent output into a format that is suitable to append to the global state\n",
        "    if isinstance(result, ToolMessage):\n",
        "        pass\n",
        "    else:\n",
        "        result = AIMessage(**result.dict(exclude={\"type\", \"name\"}), name=\"Researcher\")\n",
        "    return {\n",
        "        \"messages\": [result],\n",
        "        # Since we have a strict workflow, we can\n",
        "        # track the sender so we know who to pass to next.\n",
        "        \"sender\": \"Researcher\",\n",
        "    }\n",
        "\n",
        "\n",
        "def chart_agent_node(state):\n",
        "    result = chart_agent.invoke(state)\n",
        "    # We convert the agent output into a format that is suitable to append to the global state\n",
        "    if isinstance(result, ToolMessage):\n",
        "        pass\n",
        "    else:\n",
        "        result = AIMessage(**result.dict(exclude={\"type\", \"name\"}), name=\"chart_generator\")\n",
        "    return {\n",
        "        \"messages\": [result],\n",
        "        # Since we have a strict workflow, we can\n",
        "        # track the sender so we know who to pass to next.\n",
        "        \"sender\": \"chart_generator\",\n",
        "    }\n"
      ]
    },
    {
      "cell_type": "markdown",
      "metadata": {
        "id": "gSIR-InrSWbX"
      },
      "source": [
        "### Define Tool Node\n",
        "\n",
        "Defines the tools we would be using in the multi-agent system"
      ]
    },
    {
      "cell_type": "code",
      "execution_count": 8,
      "metadata": {
        "id": "zjEUhlViSY0b"
      },
      "outputs": [],
      "source": [
        "from langgraph.prebuilt import ToolNode\n",
        "\n",
        "tools = [tv_search, python_repl]\n",
        "tool_node = ToolNode(tools)"
      ]
    },
    {
      "cell_type": "markdown",
      "metadata": {
        "id": "TM3Qg5Wydy2F"
      },
      "source": [
        "### Define Edge Logic\n",
        "\n",
        "Defines some of the conditional edge logic that is needed to decide what to do based on results of the agents\n",
        "\n",
        "\n"
      ]
    },
    {
      "cell_type": "code",
      "execution_count": 9,
      "metadata": {
        "id": "d5R8NYH0SgZ_"
      },
      "outputs": [],
      "source": [
        "# Either agent can decide to end\n",
        "from typing import Literal\n",
        "\n",
        "def router(state) -> Literal[\"call_tool\", \"__end__\", \"continue\"]:\n",
        "    # This is the router\n",
        "    messages = state[\"messages\"]\n",
        "    last_message = messages[-1]\n",
        "    if last_message.tool_calls:\n",
        "        # The previous agent is invoking a tool\n",
        "        return \"call_tool\"\n",
        "    if \"FINAL ANSWER\" in last_message.content:\n",
        "        # Any agent decided the work is done\n",
        "        return \"__end__\"\n",
        "    return \"continue\""
      ]
    },
    {
      "cell_type": "markdown",
      "metadata": {
        "id": "yVNpbzCoVkdL"
      },
      "source": [
        "### Define the Multi-Agent Graph\n",
        "\n",
        "We can now put it all together and define the graph!\n",
        "\n"
      ]
    },
    {
      "cell_type": "code",
      "execution_count": 10,
      "metadata": {
        "id": "0ARAdSVtVnKK"
      },
      "outputs": [],
      "source": [
        "from langgraph.graph import END, StateGraph\n",
        "\n",
        "agent = StateGraph(AgentState)\n",
        "\n",
        "agent.add_node(\"Researcher\", research_agent_node)\n",
        "agent.add_node(\"chart_generator\", chart_agent_node)\n",
        "agent.add_node(\"call_tool\", tool_node)\n",
        "\n",
        "agent.add_conditional_edges(\n",
        "    \"Researcher\",\n",
        "    router,\n",
        "    # routing map\n",
        "    {\"continue\": \"chart_generator\", \"call_tool\": \"call_tool\", \"__end__\": END},\n",
        ")\n",
        "agent.add_conditional_edges(\n",
        "    \"chart_generator\",\n",
        "    router,\n",
        "    # routing map\n",
        "    {\"continue\": \"Researcher\", \"call_tool\": \"call_tool\", \"__end__\": END},\n",
        ")\n",
        "\n",
        "agent.add_conditional_edges(\n",
        "    \"call_tool\",\n",
        "    lambda x: x[\"sender\"],\n",
        "    # routing map\n",
        "    {\"Researcher\": \"Researcher\", \"chart_generator\": \"chart_generator\"},\n",
        ")\n",
        "\n",
        "agent.set_entry_point(\"Researcher\")\n",
        "agent = agent.compile()"
      ]
    },
    {
      "cell_type": "code",
      "execution_count": 11,
      "metadata": {
        "colab": {
          "base_uri": "https://localhost:8080/",
          "height": 389
        },
        "id": "X3D6GCcN0ElZ",
        "outputId": "121057d2-114b-453b-b95a-c2a110c5413e"
      },
      "outputs": [
        {
          "output_type": "display_data",
          "data": {
            "image/jpeg": "[encoded data removed]",
            "text/plain": [
              "<IPython.core.display.Image object>"
            ]
          },
          "metadata": {}
        }
      ],
      "source": [
        "from IPython.display import Image, display, Markdown\n",
        "\n",
        "display(Image(agent.get_graph().draw_mermaid_png()))"
      ]
    },
    {
      "cell_type": "markdown",
      "metadata": {
        "id": "xDIC6EeECmiO"
      },
      "source": [
        "## Test the Multi-Agent System"
      ]
    },
    {
      "cell_type": "code",
      "execution_count": 13,
      "metadata": {
        "colab": {
          "base_uri": "https://localhost:8080/",
          "height": 581
        },
        "id": "tgny4kCM0OrS",
        "outputId": "b0ed34ff-529e-4a6b-d4a7-dbc5a23337ea"
      },
      "outputs": [
        {
          "output_type": "stream",
          "name": "stderr",
          "text": [
            "WARNING:langchain_experimental.utilities.python:Python REPL can execute arbitrary code. Use with caution.\n"
          ]
        },
        {
          "output_type": "display_data",
          "data": {
            "text/plain": [
              "<Figure size 1000x600 with 1 Axes>"
            ],
            "image/png": "[encoded data removed]"
          },
          "metadata": {}
        }
      ],
      "source": [
        "prompt = \"\"\"Fetch the data of the top 5 countries with the highest GDP in the world.\n",
        "            Then use this data and draw a bar chart.\n",
        "         \"\"\"\n",
        "\n",
        "response = agent.invoke({\"messages\": [('human', prompt)]},\n",
        "                        # Maximum number of steps to take in the graph\n",
        "                        {\"recursion_limit\": 150},)"
      ]
    },
    {
      "cell_type": "code",
      "execution_count": 14,
      "metadata": {
        "colab": {
          "base_uri": "https://localhost:8080/"
        },
        "collapsed": true,
        "id": "QJQuQi08YHG2",
        "jupyter": {
          "outputs_hidden": true
        },
        "outputId": "49d4f1be-f165-4d84-ba37-c52e7c216aa1",
        "scrolled": true
      },
      "outputs": [
        {
          "output_type": "execute_result",
          "data": {
            "text/plain": [
              "{'messages': [('human',\n",
              "   'Fetch the data of the top 5 countries with the highest GDP in the world.\\n            Then use this data and draw a bar chart.\\n         '),\n",
              "  AIMessage(content='', additional_kwargs={'tool_calls': [{'id': 'call_aryjvC52jiolbVI7qAeDwudV', 'function': {'arguments': '{\"query\":\"top 5 countries by GDP 2023\"}', 'name': 'tavily_search_results_json'}, 'type': 'function'}]}, response_metadata={'token_usage': {'completion_tokens': 26, 'prompt_tokens': 235, 'total_tokens': 261, 'completion_tokens_details': {'accepted_prediction_tokens': 0, 'audio_tokens': 0, 'reasoning_tokens': 0, 'rejected_prediction_tokens': 0}, 'prompt_tokens_details': {'audio_tokens': 0, 'cached_tokens': 0}}, 'model_name': 'gpt-4o', 'system_fingerprint': 'fp_07871e2ad8', 'finish_reason': 'tool_calls', 'logprobs': None}, name='Researcher', id='run-94cef463-98ae-4e7a-89a0-e56e8c9c7ac0-0', tool_calls=[{'name': 'tavily_search_results_json', 'args': {'query': 'top 5 countries by GDP 2023'}, 'id': 'call_aryjvC52jiolbVI7qAeDwudV', 'type': 'tool_call'}]),\n",
              "  ToolMessage(content='[{\"url\": \"https://www.worldometers.info/gdp/gdp-by-country/\", \"content\": \"# | Country | GDP(nominal, 2023) | GDP(abbrev.) | GDPGrowth | Population(2023) | GDPpercapita | Share ofWorld GDP\\\\n1 | United States | $27,720,700,000,000 | $27.721 trillion | 2.89% | 343,477,335 | $80,706 | 26.11%\\\\n2 | China | $17,794,800,000,000 | $17.795 trillion | 5.25% | 1,422,584,933 | $12,509 | 16.76%\\\\n3 | Germany | $4,525,700,000,000 | $4.526 trillion | \\\\u22120.27% | 84,548,231 | $53,528 | 4.26%\\\\n4 | Japan | $4,204,490,000,000 | $4.204 trillion | 1.68% | 124,370,947 | $33,806 | 3.96% [...] 180 | Marshall Islands | $259,300,000 | $259.3 million | \\\\u22123.93% | 38,827 | $6,678 | 0.00024%\\\\n181 | Tuvalu | $62,280,312 | $62.28 million | 3.85% | 9,816 | $6,345 | 0.000059%\\\\nNOTE:\\\\nThe following countries were not included in the above table because of missing confirmed 2023 GDP data by the World Bank.\\\\nLatest GDP figures and year as reported by the World Bank is shown below:\"}, {\"url\": \"https://www.cia.gov/the-world-factbook/field/real-gdp-purchasing-power-parity/country-comparison/\", \"content\": \"Rank | Country |  | Date of Information\\\\n1 | China | $31,230,000,000,000 | 2023 est.\\\\n2 | United States | $24,977,000,000,000 | 2023 est.\\\\n3 | India | $13,173,000,000,000 | 2023 est.\\\\n4 | Russia | $5,816,000,000,000 | 2023 est.\\\\n5 | Japan | $5,747,000,000,000 | 2023 est.\\\\n6 | Germany | $5,295,000,000,000 | 2023 est.\\\\n7 | Brazil | $4,016,000,000,000 | 2023 est.\\\\n8 | Indonesia | $3,906,000,000,000 | 2023 est.\\\\n9 | France | $3,786,000,000,000 | 2023 est. [...] 20 | Australia | $1,588,000,000,000 | 2023 est.\\\\n21 | Thailand | $1,516,000,000,000 | 2023 est.\\\\n22 | Iran | $1,442,000,000,000 | 2023 est.\\\\n23 | Bangladesh | $1,413,000,000,000 | 2023 est.\\\\n24 | Vietnam | $1,354,000,000,000 | 2023 est.\\\\n25 | Pakistan | $1,346,000,000,000 | 2023 est.\\\\n26 | Netherlands | $1,277,000,000,000 | 2023 est.\\\\n27 | Nigeria | $1,275,000,000,000 | 2023 est.\\\\n28 | Argentina | $1,234,000,000,000 | 2023 est.\\\\n29 | Malaysia | $1,153,000,000,000 | 2023 est. [...] 10 | United Kingdom | $3,728,000,000,000 | 2023 est.\\\\n11 | Italy | $3,145,000,000,000 | 2023 est.\\\\n12 | Turkey (Turkiye) | $2,953,000,000,000 | 2023 est.\\\\n13 | Mexico | $2,873,000,000,000 | 2023 est.\\\\n14 | Korea, South | $2,615,000,000,000 | 2023 est.\\\\n15 | Spain | $2,279,000,000,000 | 2023 est.\\\\n16 | Canada | $2,242,000,000,000 | 2023 est.\\\\n17 | Egypt | $1,912,000,000,000 | 2023 est.\\\\n18 | Saudi Arabia | $1,831,000,000,000 | 2023 est.\\\\n19 | Poland | $1,628,000,000,000 | 2023 est.\"}, {\"url\": \"https://en.wikipedia.org/wiki/List_of_countries_by_GDP_(nominal)\", \"content\": \"| Forecast | Year | Estimate | Year | Estimate | Year |\\\\n| World | 113,795,678 | 2025 | 105,435,540 | 2023 | 100,834,796 | 2022 |\\\\n| United States | 30,507,217 | 2025 | 27,360,935 | 2023 | 25,744,100 | 2022 |\\\\n| China | 19,231,705 | [n 1]2025 | 17,794,782 | [n 3]2023 | 17,963,170 | [n 1]2022 |\\\\n| Germany | 4,744,804 | 2025 | 4,456,081 | 2023 | 4,076,923 | 2022 |\\\\n| India | 4,187,017 | 2025 | 3,549,919 | 2023 | 3,465,541 | 2022 |\\\\n| Japan | 4,186,431 | 2025 | 4,212,945 | 2023 | 4,232,173 | 2022 | [...] | Dominican Republic | 127,828 | 2025 | 121,444 | 2023 | 113,537 | 2022 |\\\\n| Ecuador | 125,677 | 2025 | 118,845 | 2023 | 115,049 | 2022 |\\\\n| Puerto Rico | 122,522 | 2025 | 117,902 | 2023 | 113,434 | 2022 |\\\\n| Guatemala | 121,177 | 2025 | 102,050 | 2023 | 95,003 | 2022 |\\\\n| Ethiopia | 117,457 | 2025 | 163,698 | 2023 | 118,971 | 2022 |\\\\n| Bulgaria | 117,007 | 2025 | 101,584 | 2023 | 90,213 | 2022 |\\\\n| Angola | 113,343 | 2025 | 84,773 | 2023 | 113,304 | 2022 | [...] | United Kingdom | 3,839,180 | 2025 | 3,340,032 | 2023 | 3,089,072 | 2022 |\\\\n| France | 3,211,292 | 2025 | 3,030,904 | 2023 | 2,775,316 | 2022 |\\\\n| Italy | 2,422,855 | 2025 | 2,254,851 | 2023 | 2,046,952 | 2022 |\\\\n| Canada | 2,225,341 | 2025 | 2,140,086 | 2023 | 2,137,939 | 2022 |\\\\n| Brazil | 2,125,958 | 2025 | 2,173,666 | 2023 | 1,920,095 | 2022 |\\\\n| Russia | 2,076,396 | 2025 | 2,021,421 | 2023 | 2,240,422 | 2022 |\\\\n| Spain | 1,799,511 | 2025 | 1,580,695 | 2023 | 1,415,874 | 2022 |\"}, {\"url\": \"https://www.visualcapitalist.com/visualizing-the-105-trillion-world-economy-in-one-chart/\", \"content\": \"Ranking Countries by Economic Size in 2023 ; 2, China, $19,374B ; 3, Japan, $4,410B ; 4, Germany, $4,309B ; 5, India, $3,737B\"}]', name='tavily_search_results_json', tool_call_id='call_aryjvC52jiolbVI7qAeDwudV'),\n",
              "  AIMessage(content=\"Based on the data from 2023, the top 5 countries with the highest GDP (nominal) are:\\n\\n1. **United States**: $27.721 trillion\\n2. **China**: $17.795 trillion\\n3. **Germany**: $4.526 trillion\\n4. **Japan**: $4.204 trillion\\n5. **India**: $3.550 trillion\\n\\nNow, I will use this data to draw a bar chart.\\n```python\\nimport matplotlib.pyplot as plt\\n\\n# Data for the top 5 countries by GDP\\ncountries = ['United States', 'China', 'Germany', 'Japan', 'India']\\ngdp_values = [27.721, 17.795, 4.526, 4.204, 3.550]  # GDP in trillions\\n\\n# Create a bar chart\\nplt.figure(figsize=(10, 6))\\nplt.bar(countries, gdp_values, color=['blue', 'red', 'green', 'purple', 'orange'])\\n\\n# Add title and labels\\nplt.title('Top 5 Countries by GDP in 2023')\\nplt.xlabel('Country')\\nplt.ylabel('GDP in Trillions (USD)')\\n\\n# Show the plot\\nplt.show()\\n```\", response_metadata={'token_usage': {'completion_tokens': 260, 'prompt_tokens': 2153, 'total_tokens': 2413, 'completion_tokens_details': {'accepted_prediction_tokens': 0, 'audio_tokens': 0, 'reasoning_tokens': 0, 'rejected_prediction_tokens': 0}, 'prompt_tokens_details': {'audio_tokens': 0, 'cached_tokens': 0}}, 'model_name': 'gpt-4o', 'system_fingerprint': 'fp_07871e2ad8', 'finish_reason': 'stop', 'logprobs': None}, name='Researcher', id='run-db2f530c-2e18-4449-805c-604054cacea8-0'),\n",
              "  AIMessage(content='', additional_kwargs={'tool_calls': [{'id': 'call_iuIT4Ld8sjoaDhmiYSty0pqK', 'function': {'arguments': '{\"code\":\"import matplotlib.pyplot as plt\\\\n\\\\n# Data for the top 5 countries by GDP\\\\ncountries = [\\'United States\\', \\'China\\', \\'Germany\\', \\'Japan\\', \\'India\\']\\\\ngdp_values = [27.721, 17.795, 4.526, 4.204, 3.550]  # GDP in trillions\\\\n\\\\n# Create a bar chart\\\\nplt.figure(figsize=(10, 6))\\\\nplt.bar(countries, gdp_values, color=[\\'blue\\', \\'red\\', \\'green\\', \\'purple\\', \\'orange\\'])\\\\n\\\\n# Add title and labels\\\\nplt.title(\\'Top 5 Countries by GDP in 2023\\')\\\\nplt.xlabel(\\'Country\\')\\\\nplt.ylabel(\\'GDP in Trillions (USD)\\')\\\\n\\\\n# Show the plot\\\\nplt.show()\"}', 'name': 'python_repl'}, 'type': 'function'}]}, response_metadata={'token_usage': {'completion_tokens': 185, 'prompt_tokens': 2413, 'total_tokens': 2598, 'completion_tokens_details': {'accepted_prediction_tokens': 0, 'audio_tokens': 0, 'reasoning_tokens': 0, 'rejected_prediction_tokens': 0}, 'prompt_tokens_details': {'audio_tokens': 0, 'cached_tokens': 0}}, 'model_name': 'gpt-4o', 'system_fingerprint': 'fp_07871e2ad8', 'finish_reason': 'tool_calls', 'logprobs': None}, name='chart_generator', id='run-6ac79a01-4a73-471b-b9f1-1162d8ea4239-0', tool_calls=[{'name': 'python_repl', 'args': {'code': \"import matplotlib.pyplot as plt\\n\\n# Data for the top 5 countries by GDP\\ncountries = ['United States', 'China', 'Germany', 'Japan', 'India']\\ngdp_values = [27.721, 17.795, 4.526, 4.204, 3.550]  # GDP in trillions\\n\\n# Create a bar chart\\nplt.figure(figsize=(10, 6))\\nplt.bar(countries, gdp_values, color=['blue', 'red', 'green', 'purple', 'orange'])\\n\\n# Add title and labels\\nplt.title('Top 5 Countries by GDP in 2023')\\nplt.xlabel('Country')\\nplt.ylabel('GDP in Trillions (USD)')\\n\\n# Show the plot\\nplt.show()\"}, 'id': 'call_iuIT4Ld8sjoaDhmiYSty0pqK', 'type': 'tool_call'}]),\n",
              "  ToolMessage(content=\"Successfully executed:\\n```python\\nimport matplotlib.pyplot as plt\\n\\n# Data for the top 5 countries by GDP\\ncountries = ['United States', 'China', 'Germany', 'Japan', 'India']\\ngdp_values = [27.721, 17.795, 4.526, 4.204, 3.550]  # GDP in trillions\\n\\n# Create a bar chart\\nplt.figure(figsize=(10, 6))\\nplt.bar(countries, gdp_values, color=['blue', 'red', 'green', 'purple', 'orange'])\\n\\n# Add title and labels\\nplt.title('Top 5 Countries by GDP in 2023')\\nplt.xlabel('Country')\\nplt.ylabel('GDP in Trillions (USD)')\\n\\n# Show the plot\\nplt.show()\\n```\\nStdout: \\n\\nIf you have completed all tasks, respond with FINAL ANSWER.\", name='python_repl', tool_call_id='call_iuIT4Ld8sjoaDhmiYSty0pqK'),\n",
              "  AIMessage(content='FINAL ANSWER: The bar chart displaying the top 5 countries by GDP in 2023 has been successfully generated. The countries are the United States, China, Germany, Japan, and India, with GDP values of $27.721 trillion, $17.795 trillion, $4.526 trillion, $4.204 trillion, and $3.550 trillion, respectively.', response_metadata={'token_usage': {'completion_tokens': 78, 'prompt_tokens': 2791, 'total_tokens': 2869, 'completion_tokens_details': {'accepted_prediction_tokens': 0, 'audio_tokens': 0, 'reasoning_tokens': 0, 'rejected_prediction_tokens': 0}, 'prompt_tokens_details': {'audio_tokens': 0, 'cached_tokens': 2304}}, 'model_name': 'gpt-4o', 'system_fingerprint': 'fp_07871e2ad8', 'finish_reason': 'stop', 'logprobs': None}, name='chart_generator', id='run-0c9f42c3-d075-4cf6-8e02-02db1cfc92c0-0')],\n",
              " 'sender': 'chart_generator'}"
            ]
          },
          "metadata": {},
          "execution_count": 14
        }
      ],
      "source": [
        "response"
      ]
    },
    {
      "cell_type": "code",
      "execution_count": 15,
      "metadata": {
        "colab": {
          "base_uri": "https://localhost:8080/",
          "height": 472
        },
        "id": "9Y7Q-KAF2oqA",
        "outputId": "f6bdeb01-047e-404e-8031-c6c9e5bf81a9"
      },
      "outputs": [
        {
          "output_type": "display_data",
          "data": {
            "text/plain": [
              "<Figure size 640x480 with 1 Axes>"
            ],
            "image/png": "[encoded data removed]"
          },
          "metadata": {}
        }
      ],
      "source": [
        "prompt = \"\"\"Fetch the data of the average temperature of USA over the last 5 years.\n",
        "            Then use this data and draw a line chart.\n",
        "         \"\"\"\n",
        "\n",
        "response = agent.invoke({\"messages\": [('human', prompt)]},\n",
        "                        # Maximum number of steps to take in the graph\n",
        "                        {\"recursion_limit\": 150},)"
      ]
    },
    {
      "cell_type": "code",
      "execution_count": 16,
      "metadata": {
        "colab": {
          "base_uri": "https://localhost:8080/"
        },
        "id": "oVSzCfgb0q4q",
        "outputId": "1c1a7abd-5038-4ec9-be33-4ab6a1cb70aa",
        "scrolled": true
      },
      "outputs": [
        {
          "output_type": "execute_result",
          "data": {
            "text/plain": [
              "{'messages': [('human',\n",
              "   'Fetch the data of the average temperature of USA over the last 5 years.\\n            Then use this data and draw a line chart.\\n         '),\n",
              "  AIMessage(content='', additional_kwargs={'tool_calls': [{'id': 'call_alYf0AJX5Oxhd78GSsvRfJl6', 'function': {'arguments': '{\"query\":\"average temperature USA last 5 years\"}', 'name': 'tavily_search_results_json'}, 'type': 'function'}]}, response_metadata={'token_usage': {'completion_tokens': 24, 'prompt_tokens': 234, 'total_tokens': 258, 'completion_tokens_details': {'accepted_prediction_tokens': 0, 'audio_tokens': 0, 'reasoning_tokens': 0, 'rejected_prediction_tokens': 0}, 'prompt_tokens_details': {'audio_tokens': 0, 'cached_tokens': 0}}, 'model_name': 'gpt-4o', 'system_fingerprint': 'fp_07871e2ad8', 'finish_reason': 'tool_calls', 'logprobs': None}, name='Researcher', id='run-db32d9d4-7a84-46cb-ae45-543c36d7bd1f-0', tool_calls=[{'name': 'tavily_search_results_json', 'args': {'query': 'average temperature USA last 5 years'}, 'id': 'call_alYf0AJX5Oxhd78GSsvRfJl6', 'type': 'tool_call'}]),\n",
              "  ToolMessage(content='[{\"url\": \"https://tradingeconomics.com/united-states/temperature\", \"content\": \"Members\\\\n\\\\n\\\\n\\\\nUnited States Average Temperature\\\\n\\\\nTemperature in the United States increased to 10.25 celsius in 2023 from 9.74 celsius in 2022. Temperature in the United States averaged 8.89 celsius from 1901 until 2023, reaching an all time high of 10.66 celsius in 2016 and a record low of 7.59 celsius in 1917. source: Worldbank [...] Related | Last | Previous | Unit | Reference\\\\nCO2 Emissions | 4853780.00 | 4768870.00 | KT | Dec 2022\\\\nPrecipitation | 735.83 | 707.98 | mm | Dec 2023\\\\nTemperature | 10.25 | 9.74 | celsius | Dec 2023\\\\n | Actual | Previous | Highest | Lowest | Dates | Unit | Frequency | \\\\n | 10.25 | 9.74 | 10.66 | 7.59 | 1901 - 2023 | celsius | Yearly | \\\\nMarkets\\\\n\\\\nGDP\\\\n\\\\nLabour\\\\n\\\\nPrices\\\\n\\\\nMoney\\\\n\\\\nTrade\\\\n\\\\nGovernment\\\\n\\\\nBusiness\\\\n\\\\nConsumer\\\\n\\\\nHousing\\\\n\\\\nTaxes\\\\n\\\\nEnergy\\\\n\\\\nHealth\\\\n\\\\nClimate\"}, {\"url\": \"https://www.epa.gov/climate-indicators/climate-change-indicators-us-and-global-temperature\", \"content\": \"Worldwide, 2023 was the warmest year on record, 2016 was the second-warmest year, and 2014\\\\u20132023 was the warmest decade on record since thermometer-based observations began. Global average surface temperature has risen at an average rate of 0.17\\\\u00b0F per decade since 1901 (Figure 2), similar to the rate of warming within the contiguous United States. Since the late 1970s, however, the United States has warmed faster than the global rate. [...] Since 1901, the average surface temperature across the contiguous 48 states has risen at an average rate of 0.17\\\\u00b0F per decade (Figure 1). Average temperatures have risen more quickly since the late 1970s (0.32 to 0.51\\\\u00b0F per decade since 1979). For the contiguous United States, nine of the 10 warmest years on record have occurred since 1998, and 2012 and 2016 were the two warmest years on record. [...] The chart has 1 Y axis displaying Temperature anomaly (\\\\u00b0F). Range: -3 to 4.\\\\nView as data table.\\\\nChart graphic.\\\\nClick the legend to turn layers on or off. Hover your mouse over the display to reveal data.  \\\\nData source: NOAA, 20242\\\\nWeb update: June 2024\\\\nEnd of interactive chart\"}, {\"url\": \"https://www.weather.gov/media/slc/ClimateBook/Annual%20Average%20Temperature%20By%20Year.pdf\", \"content\": \"2018 56.2 2019 53.6 2020 55.7 2021 56.3 2022 55.9 2023 55.6 Average Annual Temperature 52.2 Normal Average Annual Temperature (1991-2020): 54.7F [...] Average Annual Temperature by Year Year Annual Average Temperature (F) 1875 52.5 1876 51.5 1877 52.0 1878 52.5 1879 52.7 1880 48.6 1881 52.3 1882 49.6 1883 50.8 1884 51.0 1885 52.8 1886 52.0 1887 52.6 1888 53.0 1889 52.9 1890 51.4 1891 50.8 1892 51.2 1893 50.3 1894 51.0 1895 50.4 1896 51.6 1897 50.6 1898 49.7 1899 51.0 1900 53.9 1901 53.5 1902 52.1 1903 50.6 1904 51.8 1905 51.7 1906 51.2 1907 52.4 1908 50.1 1909 51.8 1910 54.5 1911 51.2 1912 50.9 1913 51.3 1914 53.2 1915 53.2 1916 51.1 1917 50.7 [...] 1918 52.3 1919 52.5 1920 51.3 1921 54.4 1922 51.2 1923 50.8 1924 51.5 1925 53.1 1926 53.9 1927 52.5 1928 50.7 1929 49.3 1930 49.4 1931 49.9 1932 48.2 1933 50.5 1934 55.3 1935 51.9 1936 52.2 1937 51.4 1938 52.0 1939 51.7 1940 53.8 1941 51.5 1942 49.7 1943 52.2 1944 49.4 1945 50.5 1946 52.0 1947 51.6 1948 50.6 1949 50.1 1950 51.6 1951 50.4 1952 51.1 1953 53.2 1954 52.8 1955 49.6 1956 51.5 1957 51.7 1958 53.6 1959 51.7 1960 51.9 1961 52.3 1962 50.6 1963 50.9 1964 48.3 1965 50.5 1966 52.4 1967 51.9\"}, {\"url\": \"https://www.ncei.noaa.gov/access/monitoring/climate-at-a-glance/statewide/time-series\", \"content\": \"| March 2013 | 49.8\\\\u00b0F | 8 |\\\\n| March 2012 | 64.6\\\\u00b0F | 131 |\\\\n| March 2011 | 57.8\\\\u00b0F | 91 |\\\\n| March 2010 | 51.2\\\\u00b0F | 17 |\\\\n| March 2009 | 57.3\\\\u00b0F | 83 |\\\\n| March 2008 | 55.2\\\\u00b0F | 64 |\\\\n| March 2007 | 60.0\\\\u00b0F | 118 |\\\\n| March 2006 | 56.1\\\\u00b0F | 78 |\\\\n| March 2005 | 53.5\\\\u00b0F | 44 |\\\\n| March 2004 | 59.0\\\\u00b0F | 110 |\\\\n| March 2003 | 57.6\\\\u00b0F | 87 |\\\\n| March 2002 | 55.0\\\\u00b0F | 59 |\\\\n| March 2001 | 51.4\\\\u00b0F | 20 |\\\\n| March 2000 | 58.9\\\\u00b0F | 109 |\\\\n| March 1999 | 52.8\\\\u00b0F | 36 |\\\\n| March 1998 | 53.4\\\\u00b0F | 43 |\\\\n| March 1997 | 61.2\\\\u00b0F | 123 | [...] | March 1979 | 55.8\\\\u00b0F | 72 |\\\\n| March 1978 | 51.2\\\\u00b0F | 17 |\\\\n| March 1977 | 57.5\\\\u00b0F | 86 |\\\\n| March 1976 | 58.2\\\\u00b0F | 98 |\\\\n| March 1975 | 53.7\\\\u00b0F | 45 |\\\\n| March 1974 | 60.1\\\\u00b0F | 119 |\\\\n| March 1973 | 59.9\\\\u00b0F | 117 |\\\\n| March 1972 | 55.1\\\\u00b0F | 62 |\\\\n| March 1971 | 50.0\\\\u00b0F | 9 |\\\\n| March 1970 | 52.7\\\\u00b0F | 34 |\\\\n| March 1969 | 47.6\\\\u00b0F | 3 |\\\\n| March 1968 | 52.0\\\\u00b0F | 23 |\\\\n| March 1967 | 58.7\\\\u00b0F | 108 |\\\\n| March 1966 | 53.2\\\\u00b0F | 40 |\\\\n| March 1965 | 51.3\\\\u00b0F | 19 |\\\\n| March 1964 | 54.1\\\\u00b0F | 52 |\\\\n| March 1963 | 58.3\\\\u00b0F | 100 | [...] | March 1996 | 50.9\\\\u00b0F | 13 |\\\\n| March 1995 | 58.2\\\\u00b0F | 98 |\\\\n| March 1994 | 55.7\\\\u00b0F | 71 |\\\\n| March 1993 | 51.7\\\\u00b0F | 22 |\\\\n| March 1992 | 54.9\\\\u00b0F | 57 |\\\\n| March 1991 | 56.9\\\\u00b0F | 80 |\\\\n| March 1990 | 58.1\\\\u00b0F | 95 |\\\\n| March 1989 | 57.3\\\\u00b0F | 83 |\\\\n| March 1988 | 54.3\\\\u00b0F | 54 |\\\\n| March 1987 | 55.7\\\\u00b0F | 71 |\\\\n| March 1986 | 55.4\\\\u00b0F | 68 |\\\\n| March 1985 | 58.7\\\\u00b0F | 108 |\\\\n| March 1984 | 53.7\\\\u00b0F | 45 |\\\\n| March 1983 | 52.0\\\\u00b0F | 23 |\\\\n| March 1982 | 58.5\\\\u00b0F | 103 |\\\\n| March 1981 | 52.2\\\\u00b0F | 28 |\\\\n| March 1980 | 52.6\\\\u00b0F | 33 |\"}, {\"url\": \"https://www.statista.com/statistics/500472/annual-average-temperature-in-the-us/\", \"content\": \"The average temperature in the contiguous United States reached 55.5 degrees Fahrenheit (13 degrees Celsius) in 2024, approximately 3.5 degrees Fahrenheit higher than the 20th-century average. These levels represented a record since measurements started in 1895.\\\\u00a0Monthly average temperatures in the U.S. were also indicative of this trend.\\\\n\\\\nTemperatures and emissions are on the rise [...] See why Statista is the trusted choice for reliable data and insights. We provide one platform to simplify research and support your strategic decisions.                        \\\\n                            Learn more\\\\n\\\\nExpert resources to inform and inspire.\\\\n\\\\nIndustry-specific and extensively researched technical data (partially from exclusive partnerships). A paid subscription is required for full access.\\\\n\\\\nAverage annual temperature in the United States 1895-2024 [...] Show sources information\\\\n                            \\\\n                                Show publisher information\\\\n                            \\\\n                                Use Ask Statista Research Service\\\\n\\\\n2025\\\\n\\\\nUnited States\\\\n\\\\n1895 to 2024\\\\n\\\\nThe source does not provide the publication date. The date given is the date of access.\\\\n\\\\nOther statistics on the topicGlobal climate change\\\\n\\\\nEmissions\\\\n\\\\nLargest global emitters of carbon dioxide 2023, by country\\\\n\\\\nEmissions\"}]', name='tavily_search_results_json', tool_call_id='call_alYf0AJX5Oxhd78GSsvRfJl6'),\n",
              "  AIMessage(content=\"I found the average annual temperatures for the USA over the last five years:\\n\\n- 2018: 56.2°F\\n- 2019: 53.6°F\\n- 2020: 55.7°F\\n- 2021: 56.3°F\\n- 2022: 55.9°F\\n- 2023: 55.6°F\\n\\nNow, I will use this data to draw a line chart.\\nHere is a line chart representing the average annual temperatures in the USA over the last six years:\\n\\n```plaintext\\nYear | Temperature (°F)\\n-----------------------\\n2018 | 56.2\\n2019 | 53.6\\n2020 | 55.7\\n2021 | 56.3\\n2022 | 55.9\\n2023 | 55.6\\n```\\n\\nTo visualize this data, you can use a plotting library like Matplotlib in Python. Here's a simple example of how you could create a line chart:\\n\\n```python\\nimport matplotlib.pyplot as plt\\n\\nyears = [2018, 2019, 2020, 2021, 2022, 2023]\\ntemperatures = [56.2, 53.6, 55.7, 56.3, 55.9, 55.6]\\n\\nplt.plot(years, temperatures, marker='o')\\nplt.title('Average Annual Temperature in the USA (2018-2023)')\\nplt.xlabel('Year')\\nplt.ylabel('Temperature (°F)')\\nplt.grid(True)\\nplt.show()\\n```\\n\\nThis code will generate a line chart with the years on the x-axis and the average temperatures on the y-axis.\", response_metadata={'token_usage': {'completion_tokens': 347, 'prompt_tokens': 3001, 'total_tokens': 3348, 'completion_tokens_details': {'accepted_prediction_tokens': 0, 'audio_tokens': 0, 'reasoning_tokens': 0, 'rejected_prediction_tokens': 0}, 'prompt_tokens_details': {'audio_tokens': 0, 'cached_tokens': 0}}, 'model_name': 'gpt-4o', 'system_fingerprint': 'fp_07871e2ad8', 'finish_reason': 'stop', 'logprobs': None}, name='Researcher', id='run-2c862888-14de-4bf9-8232-c389da14613e-0'),\n",
              "  AIMessage(content='', additional_kwargs={'tool_calls': [{'id': 'call_cEf5SmxlbGumV3jI9g7bMVR3', 'function': {'arguments': '{\"code\":\"import matplotlib.pyplot as plt\\\\n\\\\n# Data for the average annual temperatures in the USA over the last six years\\\\nyears = [2018, 2019, 2020, 2021, 2022, 2023]\\\\ntemperatures = [56.2, 53.6, 55.7, 56.3, 55.9, 55.6]\\\\n\\\\n# Create a line chart\\\\nplt.plot(years, temperatures, marker=\\'o\\')\\\\nplt.title(\\'Average Annual Temperature in the USA (2018-2023)\\')\\\\nplt.xlabel(\\'Year\\')\\\\nplt.ylabel(\\'Temperature (°F)\\')\\\\nplt.grid(True)\\\\nplt.show()\"}', 'name': 'python_repl'}, 'type': 'function'}]}, response_metadata={'token_usage': {'completion_tokens': 164, 'prompt_tokens': 3348, 'total_tokens': 3512, 'completion_tokens_details': {'accepted_prediction_tokens': 0, 'audio_tokens': 0, 'reasoning_tokens': 0, 'rejected_prediction_tokens': 0}, 'prompt_tokens_details': {'audio_tokens': 0, 'cached_tokens': 0}}, 'model_name': 'gpt-4o', 'system_fingerprint': 'fp_07871e2ad8', 'finish_reason': 'tool_calls', 'logprobs': None}, name='chart_generator', id='run-89c573b1-b56d-4013-adf0-396185b099f2-0', tool_calls=[{'name': 'python_repl', 'args': {'code': \"import matplotlib.pyplot as plt\\n\\n# Data for the average annual temperatures in the USA over the last six years\\nyears = [2018, 2019, 2020, 2021, 2022, 2023]\\ntemperatures = [56.2, 53.6, 55.7, 56.3, 55.9, 55.6]\\n\\n# Create a line chart\\nplt.plot(years, temperatures, marker='o')\\nplt.title('Average Annual Temperature in the USA (2018-2023)')\\nplt.xlabel('Year')\\nplt.ylabel('Temperature (°F)')\\nplt.grid(True)\\nplt.show()\"}, 'id': 'call_cEf5SmxlbGumV3jI9g7bMVR3', 'type': 'tool_call'}]),\n",
              "  ToolMessage(content=\"Successfully executed:\\n```python\\nimport matplotlib.pyplot as plt\\n\\n# Data for the average annual temperatures in the USA over the last six years\\nyears = [2018, 2019, 2020, 2021, 2022, 2023]\\ntemperatures = [56.2, 53.6, 55.7, 56.3, 55.9, 55.6]\\n\\n# Create a line chart\\nplt.plot(years, temperatures, marker='o')\\nplt.title('Average Annual Temperature in the USA (2018-2023)')\\nplt.xlabel('Year')\\nplt.ylabel('Temperature (°F)')\\nplt.grid(True)\\nplt.show()\\n```\\nStdout: \\n\\nIf you have completed all tasks, respond with FINAL ANSWER.\", name='python_repl', tool_call_id='call_cEf5SmxlbGumV3jI9g7bMVR3'),\n",
              "  AIMessage(content='FINAL ANSWER: The line chart representing the average annual temperatures in the USA over the last six years (2018-2023) has been successfully generated. The chart shows the following data points:\\n\\n- 2018: 56.2°F\\n- 2019: 53.6°F\\n- 2020: 55.7°F\\n- 2021: 56.3°F\\n- 2022: 55.9°F\\n- 2023: 55.6°F\\n\\nThe chart visually depicts the trend in average temperatures over these years.', response_metadata={'token_usage': {'completion_tokens': 120, 'prompt_tokens': 3683, 'total_tokens': 3803, 'completion_tokens_details': {'accepted_prediction_tokens': 0, 'audio_tokens': 0, 'reasoning_tokens': 0, 'rejected_prediction_tokens': 0}, 'prompt_tokens_details': {'audio_tokens': 0, 'cached_tokens': 3328}}, 'model_name': 'gpt-4o', 'system_fingerprint': 'fp_07871e2ad8', 'finish_reason': 'stop', 'logprobs': None}, name='chart_generator', id='run-949d3a52-f564-47af-bea4-f7fec0a7a565-0')],\n",
              " 'sender': 'chart_generator'}"
            ]
          },
          "metadata": {},
          "execution_count": 16
        }
      ],
      "source": [
        "response"
      ]
    }
  ],
  "metadata": {
    "colab": {
      "provenance": []
    },
    "kernelspec": {
      "display_name": "Python 3 (ipykernel)",
      "language": "python",
      "name": "python3"
    },
    "language_info": {
      "codemirror_mode": {
        "name": "ipython",
        "version": 3
      },
      "file_extension": ".py",
      "mimetype": "text/x-python",
      "name": "python",
      "nbconvert_exporter": "python",
      "pygments_lexer": "ipython3",
      "version": "3.11.7"
    }
  },
  "nbformat": 4,
  "nbformat_minor": 0
}